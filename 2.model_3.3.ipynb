{
 "cells": [
  {
   "cell_type": "code",
   "execution_count": 2,
   "metadata": {},
   "outputs": [
    {
     "name": "stdout",
     "output_type": "stream",
     "text": [
      "cuda:0\n",
      "_CudaDeviceProperties(name='Tesla P100-PCIE-16GB', major=6, minor=0, total_memory=16280MB, multi_processor_count=56)\n",
      "CPU times: user 556 ms, sys: 300 ms, total: 856 ms\n",
      "Wall time: 917 ms\n"
     ]
    },
    {
     "data": {
      "text/plain": [
       "<torch._C.Generator at 0x7fae640cde70>"
      ]
     },
     "execution_count": 2,
     "metadata": {},
     "output_type": "execute_result"
    }
   ],
   "source": [
    "%%time\n",
    "\n",
    "import joblib, time, os, copy, datetime\n",
    "import numpy as np\n",
    "import pandas as pd\n",
    "import matplotlib.pyplot as plt\n",
    "\n",
    "import torch\n",
    "import torchvision\n",
    "\n",
    "import torch.cuda as cutorch\n",
    "\n",
    "#enable it when running in google cloud, to upload/download file from/to VM to/from google cloud bucket\n",
    "from google.cloud import storage\n",
    "\n",
    "use_cuda = torch.cuda.is_available()\n",
    "device = torch.device(\"cuda:0\" if use_cuda else \"cpu\")\n",
    "#turn on cpu for troubleshooting as gpu doesnt throw proper error message, runing in cpu shows more specific error message\n",
    "#device = torch.device(\"cpu\") \n",
    "print(device)\n",
    "for i in range(cutorch.device_count()):\n",
    "    print(torch.cuda.get_device_properties(\"cuda:\" + str(i)))\n",
    "\n",
    "bucket_root_path = \"weicheng30417\"\n",
    "project_data_folder = \"data/breakfast-img-data/\"\n",
    "torch.manual_seed(0)"
   ]
  },
  {
   "cell_type": "code",
   "execution_count": 3,
   "metadata": {},
   "outputs": [],
   "source": [
    "def download_all_data_from_bucket():\n",
    "    storage_client = storage.Client()\n",
    "    bucket = storage_client.get_bucket(bucket_root_path)\n",
    "    file_id = project_data_folder\n",
    "    blobs=bucket.list_blobs(prefix=file_id)\n",
    "    for blob in blobs:        \n",
    "        file_names = blob.name.split(\"/\")\n",
    "        if len(file_names) == 3:\n",
    "            if file_names[2] != \"\":\n",
    "                file_name = file_names[2]            \n",
    "                blob.download_to_filename(file_name)\n",
    "                print(\"Download from {0} to local {1}\".format(blob.name, file_name))\n",
    "                \n",
    "\n",
    "def download_file_from_bucket(file):\n",
    "    storage_client = storage.Client()\n",
    "    bucket = storage_client.get_bucket(bucket_root_path)\n",
    "    butcketFile = project_data_folder + file\n",
    "    blob = bucket.blob(butcketFile)\n",
    "    blob.download_to_filename(file)\n",
    "    print(\"Download from {0} to local {1}\".format(butcketFile, file))\n",
    "    \n",
    "def upload_all_files():    \n",
    "    storage_client = storage.Client()\n",
    "    bucket = storage_client.get_bucket(bucket_root_path)\n",
    "    \n",
    "    directory = os.getcwd()\n",
    "    for file in os.listdir(directory):\n",
    "        filename = os.fsdecode(file)\n",
    "        if filename.endswith(\".csv\") or filename.endswith(\".ipynb\") or filename.endswith(\".model\"):             \n",
    "            butcketFile = project_data_folder + file\n",
    "            blob = bucket.blob(butcketFile)\n",
    "            blob.upload_from_filename(filename)\n",
    "            print(\"Upload from local {0} to {1}\".format(filename, butcketFile))\n",
    "            \n",
    "def upload_files(files):\n",
    "    storage_client = storage.Client()\n",
    "    bucket = storage_client.get_bucket(bucket_root_path)\n",
    "    for file in files:\n",
    "        butcketFile = project_data_folder + file\n",
    "        blob = bucket.blob(butcketFile)\n",
    "        blob.upload_from_filename(file)\n",
    "        print(\"Upload from local {0} to {1}\".format(file, butcketFile))\n",
    "\n",
    "def flatten(ls):\n",
    "     for item in ls:\n",
    "            for child in list(item):\n",
    "                yield child\n",
    "\n",
    "def get_segment_positions(x):\n",
    "    ps = x.segment.split()\n",
    "    ls = []\n",
    "    for i in range(len(ps)-1):\n",
    "        if i == 0:\n",
    "            ls.append([int(ps[i]), int(ps[i+1])])\n",
    "        else:\n",
    "            ls.append([int(ps[i])+1, int(ps[i+1])])        \n",
    "    return ls\n",
    "\n",
    "def get_segment_features(x):\n",
    "    ls = []\n",
    "    for rg in x.positions:\n",
    "        ls.append(x.feature[rg[0]:rg[1]])            \n",
    "    return ls\n",
    "\n",
    "def splitDataFrameList(df,target_column):\n",
    "    def splitListToRows(row,row_accumulator,target_column):\n",
    "        split_row = row[target_column]\n",
    "        for s in split_row:\n",
    "            new_row = row.to_dict()\n",
    "            new_row[target_column] = s\n",
    "            row_accumulator.append(new_row)\n",
    "    new_rows = []\n",
    "    df.apply(splitListToRows,axis=1,args = (new_rows,target_column))\n",
    "    new_df = pd.DataFrame(new_rows)\n",
    "    return new_df\n",
    "                \n",
    "def get_train_data():\n",
    "    training_segment = pd.read_csv('training_segment.txt', header=None, names = ['segment'])\n",
    "    training_segment['feature'] = joblib.load('train_feature.joblib')\n",
    "    training_segment['positions'] = training_segment.apply(lambda x: get_segment_positions(x), axis=1)\n",
    "    training_segment['feature'] = training_segment.apply(lambda x: get_segment_features(x), axis=1)\n",
    "    training_segment = splitDataFrameList(training_segment, 'feature')\n",
    "    training_segment['label'] = list(flatten(joblib.load('train_label.joblib')))\n",
    "    training_segment = training_segment.drop(['segment','positions'], axis = 1)\n",
    "    return training_segment\n",
    "\n",
    "def get_test_data():\n",
    "    test_segment = pd.read_csv('test_segment.txt', header=None, names = ['segment'])\n",
    "    test_segment['feature'] = joblib.load('test_feature.joblib')\n",
    "    test_segment['positions'] = test_segment.apply(lambda x: get_segment_positions(x), axis=1)\n",
    "    test_segment['feature'] = test_segment.apply(lambda x: get_segment_features(x), axis=1)\n",
    "    test_segment = splitDataFrameList(test_segment, 'feature')\n",
    "    test_segment['ID'] = test_segment.index\n",
    "    test_segment = test_segment.drop(['segment','positions'], axis = 1)\n",
    "    return test_segment\n",
    "\n",
    "def set_parameter_requires_grad(model, feature_extracting):\n",
    "    if feature_extracting:\n",
    "        for param in model.parameters():\n",
    "            param.requires_grad = False\n",
    "\n",
    "def train_model(model, dataloaders, criterion, optimizer, num_epochs=25, is_inception=False):\n",
    "    since = time.time()\n",
    "\n",
    "    val_acc_history = []\n",
    "\n",
    "    best_model_wts = copy.deepcopy(model.state_dict())\n",
    "    best_acc = 0.0\n",
    "    \n",
    "    for epoch in range(num_epochs):\n",
    "        ms = time.time()\n",
    "        print('Epoch {}/{}'.format(epoch, num_epochs - 1))\n",
    "        print('-' * 10)\n",
    "\n",
    "        # Each epoch has a training and validation phase\n",
    "        for phase in ['train', 'val']:\n",
    "            if phase == 'train':\n",
    "                model.train()\n",
    "            else:\n",
    "                model.eval()\n",
    "\n",
    "            running_loss = 0.0\n",
    "            running_corrects = 0\n",
    "\n",
    "            for inputs, labels in dataloaders[phase]:\n",
    "                inputs = inputs.to(device)\n",
    "                labels = labels.to(device)\n",
    "                optimizer.zero_grad()\n",
    "                with torch.set_grad_enabled(phase == 'train'):\n",
    "                    if is_inception and phase == 'train':\n",
    "                        outputs, aux_outputs = model(inputs)\n",
    "                        loss1 = criterion(outputs, labels)\n",
    "                        loss2 = criterion(aux_outputs, labels)\n",
    "                        loss = loss1 + 0.4*loss2\n",
    "                    else:\n",
    "                        outputs = model(inputs)\n",
    "                        loss = criterion(outputs, labels)\n",
    "\n",
    "                    _, preds = torch.max(outputs, 1)\n",
    "\n",
    "                    if phase == 'train':\n",
    "                        loss.backward()\n",
    "                        optimizer.step()\n",
    "\n",
    "                running_loss += loss.item() * inputs.size(0)\n",
    "                running_corrects += torch.sum(preds == labels.data)\n",
    "\n",
    "            epoch_loss = running_loss / len(dataloaders[phase].dataset)\n",
    "            epoch_acc = running_corrects.double() / len(dataloaders[phase].dataset)           \n",
    "\n",
    "            if phase == 'val' and epoch_acc > best_acc:\n",
    "                best_acc = epoch_acc\n",
    "                best_model_wts = copy.deepcopy(model.state_dict())\n",
    "            if phase == 'val':\n",
    "                val_acc_history.append(epoch_acc)            \n",
    "            print('{} Loss: {:.4f}, {} Acc: {:.4f}'.format(phase, epoch_loss, phase, epoch_acc))\n",
    "        \n",
    "        time_taken = str(datetime.timedelta(seconds=time.time() - ms))\n",
    "        print('time taken: {}'.format(time_taken))\n",
    "            \n",
    "\n",
    "    time_elapsed = time.time() - since\n",
    "    print('Training complete in {:.0f}m {:.0f}s'.format(time_elapsed // 60, time_elapsed % 60))\n",
    "    print('Best val Acc: {:4f}'.format(best_acc))\n",
    "\n",
    "    model.load_state_dict(best_model_wts)\n",
    "    return model, val_acc_history"
   ]
  },
  {
   "cell_type": "code",
   "execution_count": 3,
   "metadata": {},
   "outputs": [
    {
     "name": "stdout",
     "output_type": "stream",
     "text": [
      "<class 'pandas.core.frame.DataFrame'>\n",
      "RangeIndex: 7075 entries, 0 to 7074\n",
      "Data columns (total 2 columns):\n",
      " #   Column   Non-Null Count  Dtype \n",
      "---  ------   --------------  ----- \n",
      " 0   feature  7075 non-null   object\n",
      " 1   label    7075 non-null   int64 \n",
      "dtypes: int64(1), object(1)\n",
      "memory usage: 110.7+ KB\n",
      "None\n",
      "torch.Size([260, 400])\n",
      "tensor([[-16.2783,   4.9215,  -3.6278,  ...,  -6.3865,  -1.0839,  -6.3627],\n",
      "        [-19.2205,   6.1413,  -4.5396,  ...,  -5.2037,  -2.6973,  -4.9110],\n",
      "        [-19.7272,   7.0195,  -4.0093,  ...,  -4.2315,  -7.2786,  -6.9802],\n",
      "        ...,\n",
      "        [-16.5469,   6.7402,  -2.2102,  ...,  -6.2332,  -6.7890,  -5.9929],\n",
      "        [-18.1927,   5.1798,  -2.2626,  ...,  -5.0009,  -4.8182,  -4.7292],\n",
      "        [-19.1877,   5.8449,  -4.2045,  ...,  -4.2093,  -6.4421,  -7.3169]],\n",
      "       dtype=torch.float64)\n",
      "CPU times: user 2.77 s, sys: 10.7 s, total: 13.5 s\n",
      "Wall time: 13.5 s\n"
     ]
    }
   ],
   "source": [
    "%%time\n",
    "train_df = get_train_data()\n",
    "print(train_df.info())\n",
    "print(train_df.feature[0].shape)\n",
    "print(train_df.feature[1])"
   ]
  },
  {
   "cell_type": "code",
   "execution_count": 4,
   "metadata": {},
   "outputs": [],
   "source": [
    "def tensor_pad(x, max_len):\n",
    "    target = torch.zeros([max_len, 400], dtype=torch.float64)\n",
    "    w = x.shape[0]    \n",
    "    if w <= max_len:       \n",
    "        no_tile = (max_len // w) + 1        \n",
    "        x = torch.cat(no_tile*[x])\n",
    "    target = x[:max_len, :400]\n",
    "    return target\n",
    "\n",
    "def tensor_split(x):\n",
    "    result = []\n",
    "    max_len = 120\n",
    "    w = x.shape[0]\n",
    "    if w <= max_len:\n",
    "        result.append(tensor_pad(x, max_len))\n",
    "    else:\n",
    "        for i in range(0, w - max_len, 24):\n",
    "            result.append(x[i:i+max_len, :400])\n",
    "        \n",
    "        #result = torch.split(x, max_len, dim=0)\n",
    "        #result = list(result)\n",
    "        #s =len(result)\n",
    "        #result[s-1] = tensor_pad(result[s-1], max_len)\n",
    "    \n",
    "    return result"
   ]
  },
  {
   "cell_type": "code",
   "execution_count": 4,
   "metadata": {},
   "outputs": [
    {
     "name": "stdout",
     "output_type": "stream",
     "text": [
      "<class 'pandas.core.frame.DataFrame'>\n",
      "RangeIndex: 90364 entries, 0 to 90363\n",
      "Data columns (total 2 columns):\n",
      " #   Column   Non-Null Count  Dtype \n",
      "---  ------   --------------  ----- \n",
      " 0   feature  90364 non-null  object\n",
      " 1   label    90364 non-null  int64 \n",
      "dtypes: int64(1), object(1)\n",
      "memory usage: 1.4+ MB\n",
      "None\n",
      "CPU times: user 3.72 s, sys: 516 ms, total: 4.24 s\n",
      "Wall time: 2.7 s\n"
     ]
    }
   ],
   "source": [
    "%%time\n",
    "train_data = train_df.sample(frac=1.0)\n",
    "train_data['label'] = train_data.apply(lambda x : x[\"label\"] - 1, axis = 1)\n",
    "train_data['feature'] = train_data.apply(lambda x : tensor_split(x.feature), axis = 1)\n",
    "train_data = splitDataFrameList(train_data, \"feature\")\n",
    "print(train_data.info())"
   ]
  },
  {
   "cell_type": "code",
   "execution_count": 5,
   "metadata": {},
   "outputs": [
    {
     "name": "stdout",
     "output_type": "stream",
     "text": [
      "len(train_loader.dataset) =  72291\n",
      "len(val_loader.dataset) =  9036\n",
      "len(test_loader.dataset) =  9037\n",
      "CPU times: user 6.08 s, sys: 15.8 s, total: 21.9 s\n",
      "Wall time: 21.9 s\n"
     ]
    }
   ],
   "source": [
    "%%time\n",
    "num_classes = 47\n",
    "batch_size = 16\n",
    "\n",
    "train_feature = torch.stack(train_data['feature'].tolist())\n",
    "train_label = torch.tensor(train_data['label'].values.astype(np.long))\n",
    "\n",
    "train_dataset = torch.utils.data.TensorDataset(train_feature, train_label)\n",
    "\n",
    "train_size = int(0.8 * len(train_data))\n",
    "val_size = int(0.1 * len(train_data))\n",
    "test_size = len(train_data) - train_size - val_size\n",
    "train_dataset, val_dataset, test_dataset = torch.utils.data.random_split(train_dataset, [train_size, val_size, test_size])\n",
    "\n",
    "train_loader = torch.utils.data.DataLoader(train_dataset, batch_size=batch_size)\n",
    "val_loader = torch.utils.data.DataLoader(val_dataset, batch_size=batch_size)\n",
    "test_loader = torch.utils.data.DataLoader(test_dataset, batch_size=batch_size)\n",
    "\n",
    "dataloaders_dict = {'train':train_loader, 'val':val_loader}\n",
    "print(\"len(train_loader.dataset) = \", len(train_loader.dataset))\n",
    "print(\"len(val_loader.dataset) = \", len(val_loader.dataset))\n",
    "print(\"len(test_loader.dataset) = \", len(test_loader.dataset))"
   ]
  },
  {
   "cell_type": "code",
   "execution_count": 5,
   "metadata": {},
   "outputs": [],
   "source": [
    "from torch.nn import *\n",
    "from torch.nn.functional import *\n",
    "from torchvision.models import *\n",
    "\n",
    "class MyNet(Module):\n",
    "    def __init__(self, batch_size, num_classes):\n",
    "        super(MyNet, self).__init__()   \n",
    "        self.rnn = GRU(input_size=400, hidden_size=128, num_layers=2, bidirectional=True, dropout = 0.5)\n",
    "        self.drop = Dropout(p=0.5)        \n",
    "        self.linear1 = Linear(in_features=256, out_features=num_classes)\n",
    "        \n",
    "    def forward(self, x):       \n",
    "        x, _ = self.rnn(x)\n",
    "        \n",
    "        x = self.drop(x)\n",
    "        \n",
    "        x = self.linear1(x)        \n",
    "        x = x[:,-1]\n",
    "        return x"
   ]
  },
  {
   "cell_type": "code",
   "execution_count": 7,
   "metadata": {},
   "outputs": [
    {
     "name": "stdout",
     "output_type": "stream",
     "text": [
      "MyNet(\n",
      "  (rnn): GRU(400, 128, num_layers=2, dropout=0.5, bidirectional=True)\n",
      "  (drop): Dropout(p=0.5, inplace=False)\n",
      "  (linear1): Linear(in_features=256, out_features=47, bias=True)\n",
      ")\n",
      "Params to learn:\n",
      "\t rnn.weight_ih_l0\n",
      "\t rnn.weight_hh_l0\n",
      "\t rnn.bias_ih_l0\n",
      "\t rnn.bias_hh_l0\n",
      "\t rnn.weight_ih_l0_reverse\n",
      "\t rnn.weight_hh_l0_reverse\n",
      "\t rnn.bias_ih_l0_reverse\n",
      "\t rnn.bias_hh_l0_reverse\n",
      "\t rnn.weight_ih_l1\n",
      "\t rnn.weight_hh_l1\n",
      "\t rnn.bias_ih_l1\n",
      "\t rnn.bias_hh_l1\n",
      "\t rnn.weight_ih_l1_reverse\n",
      "\t rnn.weight_hh_l1_reverse\n",
      "\t rnn.bias_ih_l1_reverse\n",
      "\t rnn.bias_hh_l1_reverse\n",
      "\t linear1.weight\n",
      "\t linear1.bias\n",
      "Epoch 0/9\n",
      "----------\n",
      "train Loss: 2.6884, train Acc: 0.2641\n",
      "val Loss: 2.3071, val Acc: 0.3538\n",
      "time taken: 0:00:50.196618\n",
      "Epoch 1/9\n",
      "----------\n",
      "train Loss: 2.3440, train Acc: 0.3382\n",
      "val Loss: 2.1519, val Acc: 0.3796\n",
      "time taken: 0:00:50.202112\n",
      "Epoch 2/9\n",
      "----------\n",
      "train Loss: 2.2437, train Acc: 0.3586\n",
      "val Loss: 2.0770, val Acc: 0.3979\n",
      "time taken: 0:00:50.306454\n",
      "Epoch 3/9\n",
      "----------\n",
      "train Loss: 2.1986, train Acc: 0.3673\n",
      "val Loss: 2.0489, val Acc: 0.4098\n",
      "time taken: 0:00:50.275332\n",
      "Epoch 4/9\n",
      "----------\n",
      "train Loss: 2.1525, train Acc: 0.3805\n",
      "val Loss: 2.0093, val Acc: 0.4147\n",
      "time taken: 0:00:50.302440\n",
      "Epoch 5/9\n",
      "----------\n",
      "train Loss: 2.1150, train Acc: 0.3914\n",
      "val Loss: 1.9629, val Acc: 0.4304\n",
      "time taken: 0:00:50.353657\n",
      "Epoch 6/9\n",
      "----------\n",
      "train Loss: 2.0982, train Acc: 0.3972\n",
      "val Loss: 1.9574, val Acc: 0.4323\n",
      "time taken: 0:00:50.280969\n",
      "Epoch 7/9\n",
      "----------\n",
      "train Loss: 2.0607, train Acc: 0.4076\n",
      "val Loss: 1.9262, val Acc: 0.4408\n",
      "time taken: 0:00:50.399051\n",
      "Epoch 8/9\n",
      "----------\n",
      "train Loss: 2.0391, train Acc: 0.4126\n",
      "val Loss: 1.9079, val Acc: 0.4396\n",
      "time taken: 0:00:50.339978\n",
      "Epoch 9/9\n",
      "----------\n",
      "train Loss: 2.0223, train Acc: 0.4168\n",
      "val Loss: 1.8712, val Acc: 0.4512\n",
      "time taken: 0:00:50.397104\n",
      "Training complete in 8m 23s\n",
      "Best val Acc: 0.451195\n",
      "CPU times: user 7min 54s, sys: 31.6 s, total: 8min 26s\n",
      "Wall time: 8min 26s\n"
     ]
    }
   ],
   "source": [
    "%%time\n",
    "num_epochs = 10\n",
    "feature_extract = True\n",
    "\n",
    "model_ft = MyNet(batch_size, num_classes).double()\n",
    "print(model_ft)\n",
    "model_ft = model_ft.to(device)\n",
    "\n",
    "params_to_update = model_ft.parameters()\n",
    "print(\"Params to learn:\")\n",
    "if feature_extract:\n",
    "    params_to_update = []\n",
    "    for name,param in model_ft.named_parameters():\n",
    "        if param.requires_grad == True:\n",
    "            params_to_update.append(param)\n",
    "            print(\"\\t\",name)\n",
    "else:\n",
    "    for name,param in model_ft.named_parameters():\n",
    "        if param.requires_grad == True:\n",
    "            print(\"\\t\",name)\n",
    "\n",
    "optimizer_ft = torch.optim.SGD(params_to_update, lr=0.001, momentum=0.9)  \n",
    "criterion = torch.nn.CrossEntropyLoss()\n",
    "model_ft, hist = train_model(model_ft, dataloaders_dict, criterion, optimizer_ft, num_epochs=num_epochs, is_inception=False)"
   ]
  },
  {
   "cell_type": "code",
   "execution_count": 8,
   "metadata": {},
   "outputs": [
    {
     "name": "stdout",
     "output_type": "stream",
     "text": [
      "Accuracy of test data: 45.23625096824167\n",
      "CPU times: user 2.27 s, sys: 80 ms, total: 2.35 s\n",
      "Wall time: 2.35 s\n"
     ]
    }
   ],
   "source": [
    "%%time\n",
    "correct = 0\n",
    "total = 0\n",
    "with torch.no_grad():\n",
    "    for data in test_loader:\n",
    "        inputs, labels = data[0].to(device), data[1].to(device)\n",
    "        outputs = model_ft(inputs)\n",
    "        _, predicted = torch.max(outputs.data, 1)\n",
    "        total += labels.size(0)\n",
    "        correct += (predicted == labels).sum().item()\n",
    "\n",
    "print('Accuracy of test data: {0}'.format(100 * correct / total))"
   ]
  },
  {
   "cell_type": "code",
   "execution_count": 9,
   "metadata": {},
   "outputs": [
    {
     "name": "stdout",
     "output_type": "stream",
     "text": [
      "Upload from local model_3.3.model to data/breakfast-img-data/model_3.3.model\n",
      "CPU times: user 44 ms, sys: 20 ms, total: 64 ms\n",
      "Wall time: 680 ms\n"
     ]
    }
   ],
   "source": [
    "%%time\n",
    "model_name = \"model_3.3.model\" \n",
    "torch.save(model_ft.state_dict(), model_name)\n",
    "upload_files([model_name])"
   ]
  },
  {
   "cell_type": "code",
   "execution_count": 6,
   "metadata": {},
   "outputs": [
    {
     "name": "stdout",
     "output_type": "stream",
     "text": [
      "CPU times: user 3.03 s, sys: 848 ms, total: 3.88 s\n",
      "Wall time: 3.08 s\n"
     ]
    },
    {
     "data": {
      "text/plain": [
       "<All keys matched successfully>"
      ]
     },
     "execution_count": 6,
     "metadata": {},
     "output_type": "execute_result"
    }
   ],
   "source": [
    "%%time\n",
    "batch_size = 16\n",
    "num_classes = 47\n",
    "\n",
    "model_name = \"model_3.3.model\"\n",
    "model = MyNet(batch_size, num_classes).double().to(device)\n",
    "model.load_state_dict(torch.load(model_name, map_location=device)) "
   ]
  },
  {
   "cell_type": "code",
   "execution_count": 12,
   "metadata": {},
   "outputs": [
    {
     "name": "stdout",
     "output_type": "stream",
     "text": [
      "<class 'pandas.core.frame.DataFrame'>\n",
      "RangeIndex: 1284 entries, 0 to 1283\n",
      "Data columns (total 2 columns):\n",
      " #   Column   Non-Null Count  Dtype \n",
      "---  ------   --------------  ----- \n",
      " 0   feature  1284 non-null   object\n",
      " 1   ID       1284 non-null   int64 \n",
      "dtypes: int64(1), object(1)\n",
      "memory usage: 20.2+ KB\n",
      "None\n",
      "CPU times: user 496 ms, sys: 2.02 s, total: 2.51 s\n",
      "Wall time: 12.9 s\n"
     ]
    }
   ],
   "source": [
    "%%time\n",
    "test_df = get_test_data()\n",
    "print(test_df.info())"
   ]
  },
  {
   "cell_type": "code",
   "execution_count": 13,
   "metadata": {},
   "outputs": [
    {
     "name": "stdout",
     "output_type": "stream",
     "text": [
      "<class 'pandas.core.frame.DataFrame'>\n",
      "RangeIndex: 14491 entries, 0 to 14490\n",
      "Data columns (total 2 columns):\n",
      " #   Column   Non-Null Count  Dtype \n",
      "---  ------   --------------  ----- \n",
      " 0   feature  14491 non-null  object\n",
      " 1   ID       14491 non-null  int64 \n",
      "dtypes: int64(1), object(1)\n",
      "memory usage: 226.5+ KB\n",
      "None\n",
      "CPU times: user 6.07 s, sys: 2.97 s, total: 9.04 s\n",
      "Wall time: 8.67 s\n"
     ]
    }
   ],
   "source": [
    "%%time\n",
    "test_data = test_df.sample(frac = 1.0)\n",
    "test_data['feature'] = test_data.apply(lambda x : tensor_split(x.feature), axis = 1)\n",
    "test_data = splitDataFrameList(test_data, \"feature\")\n",
    "print(test_data.info())\n",
    "\n",
    "test_feature = torch.stack(test_data['feature'].tolist())\n",
    "test_dataset = torch.utils.data.TensorDataset(test_feature)\n",
    "predict_loader = torch.utils.data.DataLoader(test_dataset, batch_size=batch_size, shuffle=False)\n",
    "result = []\n",
    "with torch.no_grad():\n",
    "    for data in predict_loader:\n",
    "        inputs = data[0].to(device)\n",
    "        outputs = model(inputs)\n",
    "        _, predicted = torch.max(outputs.data, 1)\n",
    "        result = np.append(result, predicted.cpu())\n"
   ]
  },
  {
   "cell_type": "code",
   "execution_count": 14,
   "metadata": {},
   "outputs": [
    {
     "name": "stdout",
     "output_type": "stream",
     "text": [
      "CPU times: user 180 ms, sys: 4 ms, total: 184 ms\n",
      "Wall time: 186 ms\n"
     ]
    },
    {
     "data": {
      "text/html": [
       "<div>\n",
       "<style scoped>\n",
       "    .dataframe tbody tr th:only-of-type {\n",
       "        vertical-align: middle;\n",
       "    }\n",
       "\n",
       "    .dataframe tbody tr th {\n",
       "        vertical-align: top;\n",
       "    }\n",
       "\n",
       "    .dataframe thead th {\n",
       "        text-align: right;\n",
       "    }\n",
       "</style>\n",
       "<table border=\"1\" class=\"dataframe\">\n",
       "  <thead>\n",
       "    <tr style=\"text-align: right;\">\n",
       "      <th></th>\n",
       "      <th>ID</th>\n",
       "      <th>Category</th>\n",
       "    </tr>\n",
       "  </thead>\n",
       "  <tbody>\n",
       "    <tr>\n",
       "      <th>0</th>\n",
       "      <td>0</td>\n",
       "      <td>13</td>\n",
       "    </tr>\n",
       "    <tr>\n",
       "      <th>1</th>\n",
       "      <td>1</td>\n",
       "      <td>2</td>\n",
       "    </tr>\n",
       "    <tr>\n",
       "      <th>2</th>\n",
       "      <td>2</td>\n",
       "      <td>2</td>\n",
       "    </tr>\n",
       "    <tr>\n",
       "      <th>3</th>\n",
       "      <td>3</td>\n",
       "      <td>44</td>\n",
       "    </tr>\n",
       "    <tr>\n",
       "      <th>4</th>\n",
       "      <td>4</td>\n",
       "      <td>13</td>\n",
       "    </tr>\n",
       "    <tr>\n",
       "      <th>...</th>\n",
       "      <td>...</td>\n",
       "      <td>...</td>\n",
       "    </tr>\n",
       "    <tr>\n",
       "      <th>1279</th>\n",
       "      <td>1279</td>\n",
       "      <td>44</td>\n",
       "    </tr>\n",
       "    <tr>\n",
       "      <th>1280</th>\n",
       "      <td>1280</td>\n",
       "      <td>13</td>\n",
       "    </tr>\n",
       "    <tr>\n",
       "      <th>1281</th>\n",
       "      <td>1281</td>\n",
       "      <td>15</td>\n",
       "    </tr>\n",
       "    <tr>\n",
       "      <th>1282</th>\n",
       "      <td>1282</td>\n",
       "      <td>1</td>\n",
       "    </tr>\n",
       "    <tr>\n",
       "      <th>1283</th>\n",
       "      <td>1283</td>\n",
       "      <td>2</td>\n",
       "    </tr>\n",
       "  </tbody>\n",
       "</table>\n",
       "<p>1284 rows × 2 columns</p>\n",
       "</div>"
      ],
      "text/plain": [
       "        ID  Category\n",
       "0        0        13\n",
       "1        1         2\n",
       "2        2         2\n",
       "3        3        44\n",
       "4        4        13\n",
       "...    ...       ...\n",
       "1279  1279        44\n",
       "1280  1280        13\n",
       "1281  1281        15\n",
       "1282  1282         1\n",
       "1283  1283         2\n",
       "\n",
       "[1284 rows x 2 columns]"
      ]
     },
     "execution_count": 14,
     "metadata": {},
     "output_type": "execute_result"
    }
   ],
   "source": [
    "%%time\n",
    "test_data['label'] = np.transpose(result).astype('int') \n",
    "test_data_group = test_data.groupby('ID')['label'].apply(list).reset_index(name='labels')\n",
    "test_data_group['Category'] = test_data_group.apply(lambda x : np.argmax(np.bincount(x.labels)) + 1, axis = 1)\n",
    "test_data_group = test_data_group[['ID','Category']]\n",
    "test_data_group"
   ]
  },
  {
   "cell_type": "code",
   "execution_count": 15,
   "metadata": {},
   "outputs": [
    {
     "data": {
      "text/plain": [
       "29"
      ]
     },
     "execution_count": 15,
     "metadata": {},
     "output_type": "execute_result"
    }
   ],
   "source": [
    "len(test_data_group.Category.unique())"
   ]
  },
  {
   "cell_type": "code",
   "execution_count": 16,
   "metadata": {},
   "outputs": [],
   "source": [
    "submission_name = \"submission_3.3_max.csv\"\n",
    "test_data_group.to_csv(submission_name, index=False)"
   ]
  },
  {
   "cell_type": "code",
   "execution_count": 17,
   "metadata": {},
   "outputs": [
    {
     "name": "stdout",
     "output_type": "stream",
     "text": [
      "Upload from local submission_3.3_max.csv to data/breakfast-img-data/submission_3.3_max.csv\n"
     ]
    }
   ],
   "source": [
    "upload_files([submission_name])"
   ]
  },
  {
   "cell_type": "code",
   "execution_count": 7,
   "metadata": {},
   "outputs": [
    {
     "name": "stdout",
     "output_type": "stream",
     "text": [
      "<class 'pandas.core.frame.DataFrame'>\n",
      "RangeIndex: 1284 entries, 0 to 1283\n",
      "Data columns (total 2 columns):\n",
      " #   Column   Non-Null Count  Dtype \n",
      "---  ------   --------------  ----- \n",
      " 0   feature  1284 non-null   object\n",
      " 1   ID       1284 non-null   int64 \n",
      "dtypes: int64(1), object(1)\n",
      "memory usage: 20.2+ KB\n",
      "None\n",
      "CPU times: user 392 ms, sys: 1.78 s, total: 2.17 s\n",
      "Wall time: 2.16 s\n"
     ]
    }
   ],
   "source": [
    "%%time\n",
    "test_df = get_test_data()\n",
    "print(test_df.info())"
   ]
  },
  {
   "cell_type": "code",
   "execution_count": 8,
   "metadata": {},
   "outputs": [
    {
     "name": "stdout",
     "output_type": "stream",
     "text": [
      "<class 'pandas.core.frame.DataFrame'>\n",
      "RangeIndex: 14491 entries, 0 to 14490\n",
      "Data columns (total 2 columns):\n",
      " #   Column   Non-Null Count  Dtype \n",
      "---  ------   --------------  ----- \n",
      " 0   feature  14491 non-null  object\n",
      " 1   ID       14491 non-null  int64 \n",
      "dtypes: int64(1), object(1)\n",
      "memory usage: 226.5+ KB\n",
      "None\n"
     ]
    },
    {
     "name": "stderr",
     "output_type": "stream",
     "text": [
      "/opt/conda/lib/python3.7/site-packages/ipykernel_launcher.py:15: UserWarning: Implicit dimension choice for softmax has been deprecated. Change the call to include dim=X as an argument.\n",
      "  from ipykernel import kernelapp as app\n"
     ]
    },
    {
     "name": "stdout",
     "output_type": "stream",
     "text": [
      "CPU times: user 6.39 s, sys: 2.94 s, total: 9.34 s\n",
      "Wall time: 8.96 s\n"
     ]
    }
   ],
   "source": [
    "%%time\n",
    "test_data = test_df.sample(frac = 1.0)\n",
    "test_data['feature'] = test_data.apply(lambda x : tensor_split(x.feature), axis = 1)\n",
    "test_data = splitDataFrameList(test_data, \"feature\")\n",
    "print(test_data.info())\n",
    "\n",
    "test_feature = torch.stack(test_data['feature'].tolist())\n",
    "test_dataset = torch.utils.data.TensorDataset(test_feature)\n",
    "predict_loader = torch.utils.data.DataLoader(test_dataset, batch_size=batch_size)\n",
    "result = []\n",
    "with torch.no_grad():\n",
    "    for data in predict_loader:\n",
    "        inputs = data[0]            \n",
    "        inputs = inputs.to(device)    \n",
    "        outputs = model(inputs)  \n",
    "        prop = torch.nn.functional.softmax(outputs).cpu().tolist()\n",
    "        result = np.append(result, prop)"
   ]
  },
  {
   "cell_type": "code",
   "execution_count": 9,
   "metadata": {},
   "outputs": [
    {
     "name": "stdout",
     "output_type": "stream",
     "text": [
      "<class 'pandas.core.frame.DataFrame'>\n",
      "Int64Index: 1284 entries, 0 to 1283\n",
      "Data columns (total 2 columns):\n",
      " #   Column    Non-Null Count  Dtype\n",
      "---  ------    --------------  -----\n",
      " 0   ID        1284 non-null   int64\n",
      " 1   Category  1284 non-null   int64\n",
      "dtypes: int64(2)\n",
      "memory usage: 30.1 KB\n",
      "None\n",
      "CPU times: user 172 ms, sys: 0 ns, total: 172 ms\n",
      "Wall time: 183 ms\n"
     ]
    }
   ],
   "source": [
    "%%time\n",
    "test_result = pd.DataFrame(result.reshape(-1,47))\n",
    "test_result['ID'] = test_data['ID'].values\n",
    "test_data_mean = test_result.groupby('ID')[list(range(47))].agg(['mean'])\n",
    "test_data_mean.columns = list(range(47))\n",
    "test_data_mean[\"Category\"] = test_data_mean.idxmax(axis = 1)\n",
    "test_data_mean['Category'] = test_data_mean.apply(lambda x : x[\"Category\"] + 1, axis = 1).astype('int') \n",
    "test_data_mean[\"ID\"] = test_data_mean.index\n",
    "test_data_group = test_data_mean[['ID','Category']]\n",
    "print(test_data_group.info())"
   ]
  },
  {
   "cell_type": "code",
   "execution_count": 10,
   "metadata": {},
   "outputs": [
    {
     "data": {
      "text/plain": [
       "27"
      ]
     },
     "execution_count": 10,
     "metadata": {},
     "output_type": "execute_result"
    }
   ],
   "source": [
    "len(test_data_group.Category.unique())"
   ]
  },
  {
   "cell_type": "code",
   "execution_count": 11,
   "metadata": {},
   "outputs": [],
   "source": [
    "submission_name = \"submission_3.3_mean.csv\"\n",
    "test_data_group.to_csv(submission_name, index=False)"
   ]
  },
  {
   "cell_type": "code",
   "execution_count": 12,
   "metadata": {},
   "outputs": [
    {
     "name": "stdout",
     "output_type": "stream",
     "text": [
      "Upload from local submission_3.3_mean.csv to data/breakfast-img-data/submission_3.3_mean.csv\n"
     ]
    }
   ],
   "source": [
    "upload_files([submission_name])"
   ]
  }
 ],
 "metadata": {
  "kernelspec": {
   "display_name": "Python 3",
   "language": "python",
   "name": "python3"
  },
  "language_info": {
   "codemirror_mode": {
    "name": "ipython",
    "version": 3
   },
   "file_extension": ".py",
   "mimetype": "text/x-python",
   "name": "python",
   "nbconvert_exporter": "python",
   "pygments_lexer": "ipython3",
   "version": "3.7.6"
  }
 },
 "nbformat": 4,
 "nbformat_minor": 4
}
