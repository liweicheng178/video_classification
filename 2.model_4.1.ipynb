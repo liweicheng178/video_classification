{
 "cells": [
  {
   "cell_type": "code",
   "execution_count": 1,
   "metadata": {},
   "outputs": [
    {
     "name": "stdout",
     "output_type": "stream",
     "text": [
      "cuda:0\n",
      "CPU times: user 548 ms, sys: 984 ms, total: 1.53 s\n",
      "Wall time: 3.83 s\n"
     ]
    },
    {
     "data": {
      "text/plain": [
       "<torch._C.Generator at 0x7f050c0a0d50>"
      ]
     },
     "execution_count": 1,
     "metadata": {},
     "output_type": "execute_result"
    }
   ],
   "source": [
    "%%time\n",
    "import joblib, time, os, copy, datetime\n",
    "import numpy as np\n",
    "import pandas as pd\n",
    "import matplotlib.pyplot as plt\n",
    "\n",
    "from torch.nn import *\n",
    "from torch.nn.functional import *\n",
    "\n",
    "import torch\n",
    "import torchvision\n",
    "\n",
    "#enable it when running in google cloud, to upload/download file from/to VM to/from google cloud bucket\n",
    "from google.cloud import storage\n",
    "\n",
    "bucket_root_path = \"weicheng30417\"\n",
    "project_data_folder = \"data/breakfast-img-data/\"\n",
    "\n",
    "use_cuda = torch.cuda.is_available()\n",
    "device = torch.device(\"cuda:0\" if use_cuda else \"cpu\")\n",
    "#turn on cpu for troubleshooting as gpu doesnt throw proper error message, runing in cpu shows more specific error message\n",
    "#device = torch.device(\"cpu\") \n",
    "print(device)\n",
    "torch.manual_seed(0)"
   ]
  },
  {
   "cell_type": "code",
   "execution_count": 2,
   "metadata": {},
   "outputs": [],
   "source": [
    "def download_all_data_from_bucket():\n",
    "    storage_client = storage.Client()\n",
    "    bucket = storage_client.get_bucket(bucket_root_path)\n",
    "    file_id = project_data_folder\n",
    "    blobs=bucket.list_blobs(prefix=file_id)\n",
    "    for blob in blobs:        \n",
    "        file_names = blob.name.split(\"/\")\n",
    "        if len(file_names) == 3:\n",
    "            if file_names[2] != \"\":\n",
    "                file_name = file_names[2]            \n",
    "                blob.download_to_filename(file_name)\n",
    "                print(\"Download from {0} to local {1}\".format(blob.name, file_name))\n",
    "                \n",
    "\n",
    "def download_file_from_bucket(file):\n",
    "    storage_client = storage.Client()\n",
    "    bucket = storage_client.get_bucket(bucket_root_path)\n",
    "    butcketFile = project_data_folder + file\n",
    "    blob = bucket.blob(butcketFile)\n",
    "    blob.download_to_filename(file)\n",
    "    print(\"Download from {0} to local {1}\".format(butcketFile, file))\n",
    "    \n",
    "                \n",
    "def upload_files(files):\n",
    "    storage_client = storage.Client()\n",
    "    bucket = storage_client.get_bucket(bucket_root_path)\n",
    "    for file in files:\n",
    "        butcketFile = project_data_folder + file\n",
    "        blob = bucket.blob(butcketFile)\n",
    "        blob.upload_from_filename(file)\n",
    "        print(\"Upload from local {0} to {1}\".format(file, butcketFile))\n",
    "\n",
    "def upload_all_files():    \n",
    "    storage_client = storage.Client()\n",
    "    bucket = storage_client.get_bucket(bucket_root_path)\n",
    "    \n",
    "    directory = os.getcwd()\n",
    "    for file in os.listdir(directory):\n",
    "        filename = os.fsdecode(file)\n",
    "        if filename.endswith(\".csv\") or filename.endswith(\".ipynb\") or filename.endswith(\".model\"):             \n",
    "            butcketFile = project_data_folder + file\n",
    "            blob = bucket.blob(butcketFile)\n",
    "            blob.upload_from_filename(filename)\n",
    "            print(\"Upload from local {0} to {1}\".format(filename, butcketFile))        \n",
    "        \n",
    "        \n",
    "def flatten(ls):\n",
    "     for item in ls:\n",
    "            for child in list(item):\n",
    "                yield child\n",
    "\n",
    "def get_segment_positions(x):\n",
    "    ps = x.segment.split()\n",
    "    ls = []\n",
    "    for i in range(len(ps)-1):\n",
    "        if i == 0:\n",
    "            ls.append([int(ps[i]), int(ps[i+1])])\n",
    "        else:\n",
    "            ls.append([int(ps[i])+1, int(ps[i+1])])        \n",
    "    return ls\n",
    "\n",
    "def get_segment_features(x):\n",
    "    ls = []\n",
    "    for rg in x.positions:\n",
    "        ls.append(x.feature[rg[0]:rg[1]])            \n",
    "    return ls\n",
    "\n",
    "def splitDataFrameList(df,target_column):\n",
    "    def splitListToRows(row,row_accumulator,target_column):\n",
    "        split_row = row[target_column]\n",
    "        for s in split_row:\n",
    "            new_row = row.to_dict()\n",
    "            new_row[target_column] = s\n",
    "            row_accumulator.append(new_row)\n",
    "    new_rows = []\n",
    "    df.apply(splitListToRows,axis=1,args = (new_rows,target_column))\n",
    "    new_df = pd.DataFrame(new_rows)\n",
    "    return new_df\n",
    "                \n",
    "def get_train_data():\n",
    "    training_segment = pd.read_csv('training_segment.txt', header=None, names = ['segment'])\n",
    "    training_segment['feature'] = joblib.load('train_feature.joblib')\n",
    "    training_segment['positions'] = training_segment.apply(lambda x: get_segment_positions(x), axis=1)\n",
    "    training_segment['feature'] = training_segment.apply(lambda x: get_segment_features(x), axis=1)\n",
    "    training_segment = splitDataFrameList(training_segment, 'feature')\n",
    "    training_segment['label'] = list(flatten(joblib.load('train_label.joblib')))\n",
    "    training_segment = training_segment.drop(['segment','positions'], axis = 1)\n",
    "    return training_segment\n",
    "\n",
    "def get_test_data():\n",
    "    test_segment = pd.read_csv('test_segment.txt', header=None, names = ['segment'])\n",
    "    test_segment['feature'] = joblib.load('test_feature.joblib')\n",
    "    test_segment['positions'] = test_segment.apply(lambda x: get_segment_positions(x), axis=1)\n",
    "    test_segment['feature'] = test_segment.apply(lambda x: get_segment_features(x), axis=1)\n",
    "    test_segment = splitDataFrameList(test_segment, 'feature')\n",
    "    test_segment['ID'] = test_segment.index\n",
    "    test_segment = test_segment.drop(['segment','positions'], axis = 1)\n",
    "    return test_segment\n",
    "\n",
    "def set_parameter_requires_grad(model, feature_extracting):\n",
    "    if feature_extracting:\n",
    "        for param in model.parameters():\n",
    "            param.requires_grad = False\n",
    "\n",
    "def train_model(model, dataloaders, criterion, optimizer, num_epochs=25, is_inception=False):\n",
    "    since = time.time()\n",
    "\n",
    "    val_acc_history = []\n",
    "\n",
    "    best_model_wts = copy.deepcopy(model.state_dict())\n",
    "    best_acc = 0.0\n",
    "    \n",
    "    for epoch in range(num_epochs):\n",
    "        ms = time.time()\n",
    "        print('Epoch {}/{}'.format(epoch, num_epochs - 1))\n",
    "        print('-' * 10)\n",
    "\n",
    "        # Each epoch has a training and validation phase\n",
    "        for phase in ['train', 'val']:\n",
    "            if phase == 'train':\n",
    "                model.train()\n",
    "            else:\n",
    "                model.eval()\n",
    "\n",
    "            running_loss = 0.0\n",
    "            running_corrects = 0\n",
    "\n",
    "            for inputs, labels in dataloaders[phase]:                \n",
    "                inputs = inputs.to(device)\n",
    "                labels = labels.to(device)\n",
    "                \n",
    "                optimizer.zero_grad()\n",
    "                with torch.set_grad_enabled(phase == 'train'):\n",
    "                    if is_inception and phase == 'train':\n",
    "                        outputs, aux_outputs = model(inputs)\n",
    "                        loss1 = criterion(outputs, labels)\n",
    "                        loss2 = criterion(aux_outputs, labels)\n",
    "                        loss = loss1 + 0.4*loss2\n",
    "                    else:\n",
    "                        outputs = model(inputs)\n",
    "                        loss = criterion(outputs, labels)\n",
    "\n",
    "                    _, preds = torch.max(outputs, 1)\n",
    "\n",
    "                    if phase == 'train':\n",
    "                        loss.backward()\n",
    "                        optimizer.step()\n",
    "\n",
    "                running_loss += loss.item() * inputs.size(0)\n",
    "                running_corrects += torch.sum(preds == labels.data)\n",
    "\n",
    "            epoch_loss = running_loss / len(dataloaders[phase].dataset)\n",
    "            epoch_acc = running_corrects.double() / len(dataloaders[phase].dataset)           \n",
    "\n",
    "            if phase == 'val' and epoch_acc > best_acc:\n",
    "                best_acc = epoch_acc\n",
    "                best_model_wts = copy.deepcopy(model.state_dict())\n",
    "            if phase == 'val':\n",
    "                val_acc_history.append(epoch_acc)            \n",
    "            print('{} Loss: {:.4f}, {} Acc: {:.4f}'.format(phase, epoch_loss, phase, epoch_acc))\n",
    "        \n",
    "        time_taken = str(datetime.timedelta(seconds=time.time() - ms))\n",
    "        print('time taken: {}'.format(time_taken))\n",
    "            \n",
    "\n",
    "    time_elapsed = time.time() - since\n",
    "    print('Training complete in {:.0f}m {:.0f}s'.format(time_elapsed // 60, time_elapsed % 60))\n",
    "    print('Best val Acc: {:4f}'.format(best_acc))\n",
    "\n",
    "    model.load_state_dict(best_model_wts)\n",
    "    return model, val_acc_history"
   ]
  },
  {
   "cell_type": "code",
   "execution_count": 3,
   "metadata": {},
   "outputs": [
    {
     "name": "stdout",
     "output_type": "stream",
     "text": [
      "<class 'pandas.core.frame.DataFrame'>\n",
      "RangeIndex: 7075 entries, 0 to 7074\n",
      "Data columns (total 2 columns):\n",
      " #   Column   Non-Null Count  Dtype \n",
      "---  ------   --------------  ----- \n",
      " 0   feature  7075 non-null   object\n",
      " 1   label    7075 non-null   int64 \n",
      "dtypes: int64(1), object(1)\n",
      "memory usage: 110.7+ KB\n",
      "None\n",
      "CPU times: user 11.4 s, sys: 13.1 s, total: 24.5 s\n",
      "Wall time: 1min 20s\n"
     ]
    }
   ],
   "source": [
    "%%time\n",
    "train_data = get_train_data()\n",
    "train_data['feature'] = train_data.apply(lambda x : torch.sum(x['feature'], dim=0).view(1,400), axis = 1)\n",
    "train_data['label'] = train_data.apply(lambda x : x[\"label\"] - 1, axis = 1)\n",
    "print(train_data.info())"
   ]
  },
  {
   "cell_type": "code",
   "execution_count": 4,
   "metadata": {},
   "outputs": [
    {
     "name": "stdout",
     "output_type": "stream",
     "text": [
      "len(train_loader.dataset) =  5660\n",
      "len(val_loader.dataset) =  707\n",
      "len(test_loader.dataset) =  708\n",
      "CPU times: user 24 ms, sys: 0 ns, total: 24 ms\n",
      "Wall time: 36.8 ms\n"
     ]
    }
   ],
   "source": [
    "%%time\n",
    "num_classes = 47\n",
    "batch_size = 64\n",
    "num_epochs = 10\n",
    "feature_extract = True\n",
    "\n",
    "train_feature = torch.stack(train_data['feature'].tolist())\n",
    "train_label = torch.tensor(train_data['label'].values.astype(np.long))\n",
    "\n",
    "train_dataset = torch.utils.data.TensorDataset(train_feature, train_label)\n",
    "\n",
    "train_size = int(0.8 * len(train_data))\n",
    "val_size = int(0.1 * len(train_data))\n",
    "test_size = len(train_data) - train_size - val_size\n",
    "train_dataset, val_dataset, test_dataset = torch.utils.data.random_split(train_dataset, [train_size, val_size, test_size])\n",
    "\n",
    "train_loader = torch.utils.data.DataLoader(train_dataset, batch_size=batch_size)\n",
    "val_loader = torch.utils.data.DataLoader(val_dataset, batch_size=batch_size)\n",
    "test_loader = torch.utils.data.DataLoader(test_dataset, batch_size=batch_size)\n",
    "\n",
    "dataloaders_dict = {'train':train_loader, 'val':test_loader}\n",
    "print(\"len(train_loader.dataset) = \", len(train_loader.dataset))\n",
    "print(\"len(val_loader.dataset) = \", len(val_loader.dataset))\n",
    "print(\"len(test_loader.dataset) = \", len(test_loader.dataset))"
   ]
  },
  {
   "cell_type": "code",
   "execution_count": 5,
   "metadata": {},
   "outputs": [
    {
     "name": "stdout",
     "output_type": "stream",
     "text": [
      "cuda:0\n",
      "MyNet(\n",
      "  (conv1): Conv1d(1, 64, kernel_size=(3,), stride=(1,), padding=(1,))\n",
      "  (conv1_bn): BatchNorm1d(64, eps=1e-05, momentum=0.1, affine=True, track_running_stats=True)\n",
      "  (conv2): Conv1d(64, 128, kernel_size=(3,), stride=(1,), padding=(1,))\n",
      "  (conv2_bn): BatchNorm1d(128, eps=1e-05, momentum=0.1, affine=True, track_running_stats=True)\n",
      "  (conv3): Conv1d(128, 256, kernel_size=(3,), stride=(1,), padding=(1,))\n",
      "  (conv3_bn): BatchNorm1d(256, eps=1e-05, momentum=0.1, affine=True, track_running_stats=True)\n",
      "  (conv4): Conv1d(256, 512, kernel_size=(3,), stride=(1,), padding=(1,))\n",
      "  (conv4_bn): BatchNorm1d(512, eps=1e-05, momentum=0.1, affine=True, track_running_stats=True)\n",
      "  (pool): MaxPool1d(kernel_size=2, stride=2, padding=0, dilation=1, ceil_mode=False)\n",
      "  (drop1): Dropout(p=0.5, inplace=False)\n",
      "  (linear1): Linear(in_features=12800, out_features=256, bias=True)\n",
      "  (linear2): Linear(in_features=256, out_features=47, bias=True)\n",
      ")\n",
      "Params to learn:\n",
      "\t conv1.weight\n",
      "\t conv1.bias\n",
      "\t conv1_bn.weight\n",
      "\t conv1_bn.bias\n",
      "\t conv2.weight\n",
      "\t conv2.bias\n",
      "\t conv2_bn.weight\n",
      "\t conv2_bn.bias\n",
      "\t conv3.weight\n",
      "\t conv3.bias\n",
      "\t conv3_bn.weight\n",
      "\t conv3_bn.bias\n",
      "\t conv4.weight\n",
      "\t conv4.bias\n",
      "\t conv4_bn.weight\n",
      "\t conv4_bn.bias\n",
      "\t linear1.weight\n",
      "\t linear1.bias\n",
      "\t linear2.weight\n",
      "\t linear2.bias\n",
      "Epoch 0/9\n",
      "----------\n",
      "train Loss: 3.4981, train Acc: 0.1163\n",
      "val Loss: 3.1251, val Acc: 0.1737\n",
      "time taken: 0:00:05.102755\n",
      "Epoch 1/9\n",
      "----------\n",
      "train Loss: 3.1124, train Acc: 0.1947\n",
      "val Loss: 2.8364, val Acc: 0.2288\n",
      "time taken: 0:00:03.743636\n",
      "Epoch 2/9\n",
      "----------\n",
      "train Loss: 2.8666, train Acc: 0.2431\n",
      "val Loss: 2.6684, val Acc: 0.2627\n",
      "time taken: 0:00:03.741963\n",
      "Epoch 3/9\n",
      "----------\n",
      "train Loss: 2.6827, train Acc: 0.2723\n",
      "val Loss: 2.4808, val Acc: 0.2966\n",
      "time taken: 0:00:03.747050\n",
      "Epoch 4/9\n",
      "----------\n",
      "train Loss: 2.5088, train Acc: 0.3046\n",
      "val Loss: 2.3276, val Acc: 0.3291\n",
      "time taken: 0:00:03.749094\n",
      "Epoch 5/9\n",
      "----------\n",
      "train Loss: 2.3587, train Acc: 0.3306\n",
      "val Loss: 2.2013, val Acc: 0.3475\n",
      "time taken: 0:00:03.749235\n",
      "Epoch 6/9\n",
      "----------\n",
      "train Loss: 2.2271, train Acc: 0.3648\n",
      "val Loss: 2.0800, val Acc: 0.3856\n",
      "time taken: 0:00:03.741654\n",
      "Epoch 7/9\n",
      "----------\n",
      "train Loss: 2.1176, train Acc: 0.3915\n",
      "val Loss: 1.9773, val Acc: 0.4167\n",
      "time taken: 0:00:03.749912\n",
      "Epoch 8/9\n",
      "----------\n",
      "train Loss: 1.9960, train Acc: 0.4233\n",
      "val Loss: 1.9071, val Acc: 0.4322\n",
      "time taken: 0:00:03.737291\n",
      "Epoch 9/9\n",
      "----------\n",
      "train Loss: 1.9195, train Acc: 0.4396\n",
      "val Loss: 1.8461, val Acc: 0.4590\n",
      "time taken: 0:00:03.746083\n",
      "Training complete in 0m 39s\n",
      "Best val Acc: 0.459040\n",
      "CPU times: user 33.2 s, sys: 8.75 s, total: 41.9 s\n",
      "Wall time: 43.6 s\n"
     ]
    }
   ],
   "source": [
    "%%time\n",
    "class MyNet(Module):\n",
    "    def __init__(self, batch_size, num_classes):\n",
    "        super(MyNet, self).__init__()\n",
    "        self.conv1 = Conv1d(in_channels=1, out_channels=batch_size, kernel_size=3, padding=1)\n",
    "        self.conv1_bn = BatchNorm1d(num_features=batch_size)\n",
    "        self.conv2 = Conv1d(in_channels=batch_size, out_channels=batch_size*2, kernel_size=3, padding=1)\n",
    "        self.conv2_bn = BatchNorm1d(num_features=batch_size*2)\n",
    "        self.conv3 = Conv1d(in_channels=batch_size*2, out_channels=batch_size*4, kernel_size=3, padding=1)\n",
    "        self.conv3_bn = BatchNorm1d(num_features=batch_size*4)\n",
    "        self.conv4 = Conv1d(in_channels=batch_size*4, out_channels=batch_size*8, kernel_size=3, padding=1)\n",
    "        self.conv4_bn = BatchNorm1d(num_features=batch_size*8)\n",
    "        self.pool = MaxPool1d(2, 2)\n",
    "        self.drop1 = Dropout(0.5)\n",
    "        self.linear1 = Linear(in_features=12800, out_features=batch_size*4)\n",
    "        self.linear2 = Linear(in_features=batch_size*4, out_features=num_classes)\n",
    "    \n",
    "    def forward(self, x):\n",
    "        x = self.pool(relu(self.conv1_bn(self.conv1(x))))\n",
    "        #print(\"conv1\", x.shape)\n",
    "        x = self.pool(relu(self.conv2_bn(self.conv2(x))))\n",
    "        #print(\"conv2\",x.shape)\n",
    "        x = self.pool(relu(self.conv3_bn(self.conv3(x))))\n",
    "        #print(\"conv3\",x.shape)\n",
    "        x = self.pool(relu(self.conv4_bn(self.conv4(x))))\n",
    "        #print(\"conv4\",x.shape)\n",
    "        x = self.drop1(x)\n",
    "        \n",
    "        #print(\"x = x.view(64, -1)\", x.view(64, -1).shape)\n",
    "        \n",
    "        x = x.view(-1, 12800) \n",
    "        #print(\"x.view\",x.shape)\n",
    "        x = relu(self.linear1(x))\n",
    "        #print(\"linear1\",x.shape)\n",
    "        x = self.drop1(x) \n",
    "        #x = softmax(self.linear2(x))\n",
    "        x = self.linear2(x)\n",
    "        return x\n",
    "\n",
    "\n",
    "use_cuda = torch.cuda.is_available()\n",
    "device = torch.device(\"cuda:0\" if use_cuda else \"cpu\")\n",
    "#turn on cpu for troubleshooting as gpu doesnt throw proper error message, runing in cpu shows more specific error message\n",
    "#device = torch.device(\"cpu\") \n",
    "print(device)\n",
    "\n",
    "model_ft = MyNet(batch_size, num_classes).double()\n",
    "print(model_ft)\n",
    "if torch.cuda.device_count() > 1:\n",
    "    print(\"Let's use\", torch.cuda.device_count(), \"GPUs!\")\n",
    "    model_ft = DataParallel(model_ft)\n",
    "\n",
    "model_ft = model_ft.to(device)\n",
    "\n",
    "params_to_update = model_ft.parameters()\n",
    "print(\"Params to learn:\")\n",
    "if feature_extract:\n",
    "    params_to_update = []\n",
    "    for name,param in model_ft.named_parameters():\n",
    "        if param.requires_grad == True:\n",
    "            params_to_update.append(param)\n",
    "            print(\"\\t\",name)\n",
    "else:\n",
    "    for name,param in model_ft.named_parameters():\n",
    "        if param.requires_grad == True:\n",
    "            print(\"\\t\",name)\n",
    "\n",
    "optimizer_ft = torch.optim.SGD(params_to_update, lr=0.001, momentum=0.9)\n",
    "criterion = torch.nn.CrossEntropyLoss()\n",
    "model_ft, hist = train_model(model_ft, dataloaders_dict, criterion, optimizer_ft, num_epochs=num_epochs, is_inception=False)"
   ]
  },
  {
   "cell_type": "code",
   "execution_count": 6,
   "metadata": {},
   "outputs": [
    {
     "name": "stdout",
     "output_type": "stream",
     "text": [
      "Accuracy of test data: 47.807637906647805\n",
      "CPU times: user 52 ms, sys: 0 ns, total: 52 ms\n",
      "Wall time: 48.6 ms\n"
     ]
    }
   ],
   "source": [
    "%%time\n",
    "correct = 0\n",
    "total = 0\n",
    "with torch.no_grad():\n",
    "    for data in val_loader:\n",
    "        inputs, labels = data[0], data[1]        \n",
    "        inputs, labels = inputs.to(device), labels.to(device)\n",
    "        outputs = model_ft(inputs)\n",
    "        _, predicted = torch.max(outputs.data, 1)\n",
    "        total += labels.size(0)\n",
    "        correct += (predicted == labels).sum().item()\n",
    "\n",
    "print('Accuracy of test data: {0}'.format(100 * correct / total))"
   ]
  },
  {
   "cell_type": "code",
   "execution_count": 7,
   "metadata": {},
   "outputs": [
    {
     "name": "stdout",
     "output_type": "stream",
     "text": [
      "Upload from local model_4.1.model to data/breakfast-img-data/model_4.1.model\n",
      "CPU times: user 68 ms, sys: 92 ms, total: 160 ms\n",
      "Wall time: 820 ms\n"
     ]
    }
   ],
   "source": [
    "%%time\n",
    "model_name = \"model_4.1.model\" #renamed to model_1.2.model\n",
    "torch.save(model_ft.state_dict(), model_name)\n",
    "upload_files([model_name])"
   ]
  },
  {
   "cell_type": "code",
   "execution_count": 8,
   "metadata": {},
   "outputs": [
    {
     "name": "stdout",
     "output_type": "stream",
     "text": [
      "CPU times: user 200 ms, sys: 28 ms, total: 228 ms\n",
      "Wall time: 55.6 ms\n"
     ]
    },
    {
     "data": {
      "text/plain": [
       "<All keys matched successfully>"
      ]
     },
     "execution_count": 8,
     "metadata": {},
     "output_type": "execute_result"
    }
   ],
   "source": [
    "%%time\n",
    "batch_size = 64\n",
    "num_classes = 47\n",
    "\n",
    "model_name = \"model_4.1.model\"\n",
    "model = MyNet(batch_size, num_classes).double().to(device)\n",
    "model.load_state_dict(torch.load(model_name, map_location=device)) "
   ]
  },
  {
   "cell_type": "code",
   "execution_count": 9,
   "metadata": {},
   "outputs": [
    {
     "name": "stdout",
     "output_type": "stream",
     "text": [
      "CPU times: user 3.88 s, sys: 2.28 s, total: 6.16 s\n",
      "Wall time: 13.3 s\n"
     ]
    }
   ],
   "source": [
    "%%time\n",
    "test_df = get_test_data()\n",
    "test_df['feature'] = test_df.apply(lambda x : torch.sum(x['feature'], dim=0).view(1,400), axis = 1)\n",
    "test_feature = torch.stack(test_df['feature'].tolist())\n",
    "test_dataset = torch.utils.data.TensorDataset(test_feature)\n",
    "predict_loader = torch.utils.data.DataLoader(test_dataset, batch_size=64, shuffle=False)\n",
    "result = []\n",
    "with torch.no_grad():\n",
    "    for data in predict_loader:\n",
    "        inputs = data[0]\n",
    "        inputs = inputs.to(device) \n",
    "        outputs = model(inputs)\n",
    "        _, predicted = torch.max(outputs.data, 1)\n",
    "        result = np.append(result, predicted.cpu())\n",
    "\n",
    "test_df['label'] = np.transpose(result).astype('int') "
   ]
  },
  {
   "cell_type": "code",
   "execution_count": 10,
   "metadata": {},
   "outputs": [
    {
     "name": "stdout",
     "output_type": "stream",
     "text": [
      "CPU times: user 200 ms, sys: 8 ms, total: 208 ms\n",
      "Wall time: 26.3 ms\n"
     ]
    },
    {
     "data": {
      "text/html": [
       "<div>\n",
       "<style scoped>\n",
       "    .dataframe tbody tr th:only-of-type {\n",
       "        vertical-align: middle;\n",
       "    }\n",
       "\n",
       "    .dataframe tbody tr th {\n",
       "        vertical-align: top;\n",
       "    }\n",
       "\n",
       "    .dataframe thead th {\n",
       "        text-align: right;\n",
       "    }\n",
       "</style>\n",
       "<table border=\"1\" class=\"dataframe\">\n",
       "  <thead>\n",
       "    <tr style=\"text-align: right;\">\n",
       "      <th></th>\n",
       "      <th>ID</th>\n",
       "      <th>Category</th>\n",
       "    </tr>\n",
       "  </thead>\n",
       "  <tbody>\n",
       "    <tr>\n",
       "      <th>0</th>\n",
       "      <td>0</td>\n",
       "      <td>6</td>\n",
       "    </tr>\n",
       "    <tr>\n",
       "      <th>1</th>\n",
       "      <td>1</td>\n",
       "      <td>1</td>\n",
       "    </tr>\n",
       "    <tr>\n",
       "      <th>2</th>\n",
       "      <td>2</td>\n",
       "      <td>2</td>\n",
       "    </tr>\n",
       "    <tr>\n",
       "      <th>3</th>\n",
       "      <td>3</td>\n",
       "      <td>21</td>\n",
       "    </tr>\n",
       "    <tr>\n",
       "      <th>4</th>\n",
       "      <td>4</td>\n",
       "      <td>14</td>\n",
       "    </tr>\n",
       "    <tr>\n",
       "      <th>...</th>\n",
       "      <td>...</td>\n",
       "      <td>...</td>\n",
       "    </tr>\n",
       "    <tr>\n",
       "      <th>1279</th>\n",
       "      <td>1279</td>\n",
       "      <td>44</td>\n",
       "    </tr>\n",
       "    <tr>\n",
       "      <th>1280</th>\n",
       "      <td>1280</td>\n",
       "      <td>14</td>\n",
       "    </tr>\n",
       "    <tr>\n",
       "      <th>1281</th>\n",
       "      <td>1281</td>\n",
       "      <td>15</td>\n",
       "    </tr>\n",
       "    <tr>\n",
       "      <th>1282</th>\n",
       "      <td>1282</td>\n",
       "      <td>2</td>\n",
       "    </tr>\n",
       "    <tr>\n",
       "      <th>1283</th>\n",
       "      <td>1283</td>\n",
       "      <td>46</td>\n",
       "    </tr>\n",
       "  </tbody>\n",
       "</table>\n",
       "<p>1284 rows × 2 columns</p>\n",
       "</div>"
      ],
      "text/plain": [
       "        ID  Category\n",
       "0        0         6\n",
       "1        1         1\n",
       "2        2         2\n",
       "3        3        21\n",
       "4        4        14\n",
       "...    ...       ...\n",
       "1279  1279        44\n",
       "1280  1280        14\n",
       "1281  1281        15\n",
       "1282  1282         2\n",
       "1283  1283        46\n",
       "\n",
       "[1284 rows x 2 columns]"
      ]
     },
     "execution_count": 10,
     "metadata": {},
     "output_type": "execute_result"
    }
   ],
   "source": [
    "%%time\n",
    "test_df['Category'] = test_df.apply(lambda x : x['label'] + 1, axis = 1)\n",
    "test_df = test_df[['ID','Category']]\n",
    "test_df"
   ]
  },
  {
   "cell_type": "code",
   "execution_count": 11,
   "metadata": {},
   "outputs": [
    {
     "data": {
      "text/plain": [
       "array([ 6,  1,  2, 21, 14,  5, 10, 17, 29, 15, 11, 28,  4, 32, 34, 33, 12,\n",
       "       36, 37, 26, 24, 25, 20, 27, 39, 13, 45, 46, 44, 19, 30, 22, 43, 40])"
      ]
     },
     "execution_count": 11,
     "metadata": {},
     "output_type": "execute_result"
    }
   ],
   "source": [
    "test_df.Category.unique()"
   ]
  },
  {
   "cell_type": "code",
   "execution_count": 12,
   "metadata": {},
   "outputs": [
    {
     "data": {
      "text/plain": [
       "34"
      ]
     },
     "execution_count": 12,
     "metadata": {},
     "output_type": "execute_result"
    }
   ],
   "source": [
    "len(test_df.Category.unique())"
   ]
  },
  {
   "cell_type": "code",
   "execution_count": 15,
   "metadata": {},
   "outputs": [],
   "source": [
    "submission_name = \"submission_4.1_max.csv\"\n",
    "test_df.to_csv(submission_name, index=False)"
   ]
  },
  {
   "cell_type": "code",
   "execution_count": 16,
   "metadata": {},
   "outputs": [
    {
     "name": "stdout",
     "output_type": "stream",
     "text": [
      "Upload from local submission_4.1_max.csv to data/breakfast-img-data/submission_4.1_max.csv\n"
     ]
    }
   ],
   "source": [
    "upload_files([submission_name])"
   ]
  }
 ],
 "metadata": {
  "kernelspec": {
   "display_name": "Python 3",
   "language": "python",
   "name": "python3"
  },
  "language_info": {
   "codemirror_mode": {
    "name": "ipython",
    "version": 3
   },
   "file_extension": ".py",
   "mimetype": "text/x-python",
   "name": "python",
   "nbconvert_exporter": "python",
   "pygments_lexer": "ipython3",
   "version": "3.7.6"
  }
 },
 "nbformat": 4,
 "nbformat_minor": 4
}
