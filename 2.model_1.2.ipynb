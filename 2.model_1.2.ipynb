{
 "cells": [
  {
   "cell_type": "code",
   "execution_count": 1,
   "metadata": {},
   "outputs": [
    {
     "name": "stdout",
     "output_type": "stream",
     "text": [
      "cuda:0\n",
      "CPU times: user 356 ms, sys: 40 ms, total: 396 ms\n",
      "Wall time: 397 ms\n"
     ]
    },
    {
     "data": {
      "text/plain": [
       "<torch._C.Generator at 0x7f090beb1d30>"
      ]
     },
     "execution_count": 1,
     "metadata": {},
     "output_type": "execute_result"
    }
   ],
   "source": [
    "%%time\n",
    "reload_data = False\n",
    "\n",
    "import joblib, time, os, copy, datetime\n",
    "import numpy as np\n",
    "import pandas as pd\n",
    "import matplotlib.pyplot as plt\n",
    "\n",
    "from torch.nn import *\n",
    "from torch.nn.functional import *\n",
    "\n",
    "import torch\n",
    "import torchvision\n",
    "\n",
    "#enable it when running in google cloud, to upload/download file from/to VM to/from google cloud bucket\n",
    "from google.cloud import storage\n",
    "\n",
    "bucket_root_path = \"weicheng30417\"\n",
    "project_data_folder = \"data/breakfast-img-data/\"\n",
    "\n",
    "use_cuda = torch.cuda.is_available()\n",
    "device = torch.device(\"cuda:0\" if use_cuda else \"cpu\")\n",
    "#turn on cpu for troubleshooting as gpu doesnt throw proper error message, runing in cpu shows more specific error message\n",
    "#device = torch.device(\"cpu\") \n",
    "print(device)\n",
    "torch.manual_seed(0)"
   ]
  },
  {
   "cell_type": "code",
   "execution_count": 2,
   "metadata": {},
   "outputs": [],
   "source": [
    "def download_all_data_from_bucket():\n",
    "    storage_client = storage.Client()\n",
    "    bucket = storage_client.get_bucket(bucket_root_path)\n",
    "    file_id = project_data_folder\n",
    "    blobs=bucket.list_blobs(prefix=file_id)\n",
    "    for blob in blobs:        \n",
    "        file_names = blob.name.split(\"/\")\n",
    "        if len(file_names) == 3:\n",
    "            if file_names[2] != \"\":\n",
    "                file_name = file_names[2]            \n",
    "                blob.download_to_filename(file_name)\n",
    "                print(\"Download from {0} to local {1}\".format(blob.name, file_name))\n",
    "                \n",
    "\n",
    "def download_file_from_bucket(file):\n",
    "    storage_client = storage.Client()\n",
    "    bucket = storage_client.get_bucket(bucket_root_path)\n",
    "    butcketFile = project_data_folder + file\n",
    "    blob = bucket.blob(butcketFile)\n",
    "    blob.download_to_filename(file)\n",
    "    print(\"Download from {0} to local {1}\".format(butcketFile, file))\n",
    "    \n",
    "                \n",
    "def upload_files(files):\n",
    "    storage_client = storage.Client()\n",
    "    bucket = storage_client.get_bucket(bucket_root_path)\n",
    "    for file in files:\n",
    "        butcketFile = project_data_folder + file\n",
    "        blob = bucket.blob(butcketFile)\n",
    "        blob.upload_from_filename(file)\n",
    "        print(\"Upload from local {0} to {1}\".format(file, butcketFile))\n",
    "\n",
    "def upload_all_files():    \n",
    "    storage_client = storage.Client()\n",
    "    bucket = storage_client.get_bucket(bucket_root_path)\n",
    "    \n",
    "    directory = os.getcwd()\n",
    "    for file in os.listdir(directory):\n",
    "        filename = os.fsdecode(file)\n",
    "        if filename.endswith(\".csv\") or filename.endswith(\".ipynb\") or filename.endswith(\".model\"):             \n",
    "            butcketFile = project_data_folder + file\n",
    "            blob = bucket.blob(butcketFile)\n",
    "            blob.upload_from_filename(filename)\n",
    "            print(\"Upload from local {0} to {1}\".format(filename, butcketFile))        \n",
    "        \n",
    "        \n",
    "def flatten(ls):\n",
    "     for item in ls:\n",
    "            for child in list(item):\n",
    "                yield child\n",
    "\n",
    "def get_segment_positions(x):\n",
    "    ps = x.segment.split()\n",
    "    ls = []\n",
    "    for i in range(len(ps)-1):\n",
    "        if i == 0:\n",
    "            ls.append([int(ps[i]), int(ps[i+1])])\n",
    "        else:\n",
    "            ls.append([int(ps[i])+1, int(ps[i+1])])        \n",
    "    return ls\n",
    "\n",
    "def get_segment_features(x):\n",
    "    ls = []\n",
    "    for rg in x.positions:\n",
    "        ls.append(x.feature[rg[0]:rg[1]])            \n",
    "    return ls\n",
    "\n",
    "def splitDataFrameList(df,target_column):\n",
    "    def splitListToRows(row,row_accumulator,target_column):\n",
    "        split_row = row[target_column]\n",
    "        for s in split_row:\n",
    "            new_row = row.to_dict()\n",
    "            new_row[target_column] = s\n",
    "            row_accumulator.append(new_row)\n",
    "    new_rows = []\n",
    "    df.apply(splitListToRows,axis=1,args = (new_rows,target_column))\n",
    "    new_df = pd.DataFrame(new_rows)\n",
    "    return new_df\n",
    "                \n",
    "def get_train_data():\n",
    "    training_segment = pd.read_csv('training_segment.txt', header=None, names = ['segment'])\n",
    "    training_segment['feature'] = joblib.load('train_feature.joblib')\n",
    "    training_segment['positions'] = training_segment.apply(lambda x: get_segment_positions(x), axis=1)\n",
    "    training_segment['feature'] = training_segment.apply(lambda x: get_segment_features(x), axis=1)\n",
    "    training_segment = splitDataFrameList(training_segment, 'feature')\n",
    "    training_segment['label'] = list(flatten(joblib.load('train_label.joblib')))\n",
    "    training_segment = training_segment.drop(['segment','positions'], axis = 1)\n",
    "    return training_segment\n",
    "\n",
    "def get_test_data():\n",
    "    test_segment = pd.read_csv('test_segment.txt', header=None, names = ['segment'])\n",
    "    test_segment['feature'] = joblib.load('test_feature.joblib')\n",
    "    test_segment['positions'] = test_segment.apply(lambda x: get_segment_positions(x), axis=1)\n",
    "    test_segment['feature'] = test_segment.apply(lambda x: get_segment_features(x), axis=1)\n",
    "    test_segment = splitDataFrameList(test_segment, 'feature')\n",
    "    test_segment['ID'] = test_segment.index\n",
    "    test_segment = test_segment.drop(['segment','positions'], axis = 1)\n",
    "    return test_segment\n",
    "\n",
    "def set_parameter_requires_grad(model, feature_extracting):\n",
    "    if feature_extracting:\n",
    "        for param in model.parameters():\n",
    "            param.requires_grad = False\n",
    "\n",
    "def train_model(model, dataloaders, criterion, optimizer, num_epochs=25, is_inception=False):\n",
    "    since = time.time()\n",
    "\n",
    "    val_acc_history = []\n",
    "\n",
    "    best_model_wts = copy.deepcopy(model.state_dict())\n",
    "    best_acc = 0.0\n",
    "    \n",
    "    for epoch in range(num_epochs):\n",
    "        ms = time.time()\n",
    "        print('Epoch {}/{}'.format(epoch, num_epochs - 1))\n",
    "        print('-' * 10)\n",
    "\n",
    "        # Each epoch has a training and validation phase\n",
    "        for phase in ['train', 'val']:\n",
    "            if phase == 'train':\n",
    "                model.train()\n",
    "            else:\n",
    "                model.eval()\n",
    "\n",
    "            running_loss = 0.0\n",
    "            running_corrects = 0\n",
    "\n",
    "            for inputs, labels in dataloaders[phase]:                \n",
    "                inputs = inputs.to(device)\n",
    "                labels = labels.to(device)\n",
    "                \n",
    "                optimizer.zero_grad()\n",
    "                with torch.set_grad_enabled(phase == 'train'):\n",
    "                    if is_inception and phase == 'train':\n",
    "                        outputs, aux_outputs = model(inputs)\n",
    "                        loss1 = criterion(outputs, labels)\n",
    "                        loss2 = criterion(aux_outputs, labels)\n",
    "                        loss = loss1 + 0.4*loss2\n",
    "                    else:\n",
    "                        outputs = model(inputs)\n",
    "                        loss = criterion(outputs, labels)\n",
    "\n",
    "                    _, preds = torch.max(outputs, 1)\n",
    "\n",
    "                    if phase == 'train':\n",
    "                        loss.backward()\n",
    "                        optimizer.step()\n",
    "\n",
    "                running_loss += loss.item() * inputs.size(0)\n",
    "                running_corrects += torch.sum(preds == labels.data)\n",
    "\n",
    "            epoch_loss = running_loss / len(dataloaders[phase].dataset)\n",
    "            epoch_acc = running_corrects.double() / len(dataloaders[phase].dataset)           \n",
    "\n",
    "            if phase == 'val' and epoch_acc > best_acc:\n",
    "                best_acc = epoch_acc\n",
    "                best_model_wts = copy.deepcopy(model.state_dict())\n",
    "            if phase == 'val':\n",
    "                val_acc_history.append(epoch_acc)            \n",
    "            print('{} Loss: {:.4f}, {} Acc: {:.4f}'.format(phase, epoch_loss, phase, epoch_acc))\n",
    "        \n",
    "        time_taken = str(datetime.timedelta(seconds=time.time() - ms))\n",
    "        print('time taken: {}'.format(time_taken))\n",
    "            \n",
    "\n",
    "    time_elapsed = time.time() - since\n",
    "    print('Training complete in {:.0f}m {:.0f}s'.format(time_elapsed // 60, time_elapsed % 60))\n",
    "    print('Best val Acc: {:4f}'.format(best_acc))\n",
    "\n",
    "    model.load_state_dict(best_model_wts)\n",
    "    return model, val_acc_history\n",
    "\n",
    "class MyNet(Module):\n",
    "    def __init__(self, batch_size, num_classes):\n",
    "        super(MyNet, self).__init__()\n",
    "        self.conv1 = Conv2d(in_channels=1, out_channels=batch_size, kernel_size=3, padding=1)\n",
    "        self.conv1_bn = BatchNorm2d(num_features=batch_size)\n",
    "        self.conv2 = Conv2d(in_channels=batch_size, out_channels=batch_size*2, kernel_size=3, padding=1)\n",
    "        self.conv2_bn = BatchNorm2d(num_features=batch_size*2)\n",
    "        self.conv3 = Conv2d(in_channels=batch_size*2, out_channels=batch_size*4, kernel_size=3, padding=1)\n",
    "        self.conv3_bn = BatchNorm2d(num_features=batch_size*4)\n",
    "        self.conv4 = Conv2d(in_channels=batch_size*4, out_channels=batch_size*8, kernel_size=3, padding=1)\n",
    "        self.conv4_bn = BatchNorm2d(num_features=batch_size*8)\n",
    "        self.pool = MaxPool2d(2, 2)\n",
    "        self.drop1 = Dropout(0.5)\n",
    "        self.linear1 = Linear(in_features=batch_size*8, out_features=batch_size*4)\n",
    "        self.linear2 = Linear(in_features=batch_size*4, out_features=num_classes)\n",
    "    \n",
    "    def forward(self, x):\n",
    "        x = self.pool(relu(self.conv1_bn(self.conv1(x))))\n",
    "        #print(\"conv1\", x.shape)\n",
    "        x = self.pool(relu(self.conv2_bn(self.conv2(x))))\n",
    "        #print(\"conv2\",x.shape)\n",
    "        x = self.pool(relu(self.conv3_bn(self.conv3(x))))\n",
    "        #print(\"conv3\",x.shape)\n",
    "        x = self.pool(relu(self.conv4_bn(self.conv4(x))))\n",
    "        #print(\"conv4\",x.shape)\n",
    "        x = self.drop1(x)\n",
    "        x = x.view(-1, 512) \n",
    "        #print(\"x.view\",x.shape)\n",
    "        x = relu(self.linear1(x))\n",
    "        #print(\"linear1\",x.shape)\n",
    "        x = self.drop1(x) \n",
    "        #x = softmax(self.linear2(x))\n",
    "        x = self.linear2(x)\n",
    "        return x"
   ]
  },
  {
   "cell_type": "code",
   "execution_count": 3,
   "metadata": {},
   "outputs": [
    {
     "name": "stdout",
     "output_type": "stream",
     "text": [
      "CPU times: user 0 ns, sys: 0 ns, total: 0 ns\n",
      "Wall time: 6.44 µs\n"
     ]
    }
   ],
   "source": [
    "%%time\n",
    "if reload_data:\n",
    "    download_all_data_from_bucket()"
   ]
  },
  {
   "cell_type": "code",
   "execution_count": 5,
   "metadata": {},
   "outputs": [
    {
     "name": "stdout",
     "output_type": "stream",
     "text": [
      "torch.Size([260, 400])\n",
      "<class 'pandas.core.frame.DataFrame'>\n",
      "RangeIndex: 2855174 entries, 0 to 2855173\n",
      "Data columns (total 2 columns):\n",
      " #   Column   Dtype \n",
      "---  ------   ----- \n",
      " 0   feature  object\n",
      " 1   label    int64 \n",
      "dtypes: int64(1), object(1)\n",
      "memory usage: 43.6+ MB\n",
      "None\n",
      "CPU times: user 37 s, sys: 9.24 s, total: 46.3 s\n",
      "Wall time: 46.2 s\n"
     ]
    }
   ],
   "source": [
    "%%time\n",
    "train_df = get_train_data()\n",
    "print(train_df.feature[0].shape)\n",
    "train_df = splitDataFrameList(train_df, 'feature')\n",
    "print(train_df.info())"
   ]
  },
  {
   "cell_type": "code",
   "execution_count": 6,
   "metadata": {},
   "outputs": [
    {
     "name": "stdout",
     "output_type": "stream",
     "text": [
      "<class 'pandas.core.frame.DataFrame'>\n",
      "Int64Index: 2855174 entries, 1615646 to 336068\n",
      "Data columns (total 2 columns):\n",
      " #   Column   Dtype \n",
      "---  ------   ----- \n",
      " 0   feature  object\n",
      " 1   label    int64 \n",
      "dtypes: int64(1), object(1)\n",
      "memory usage: 65.3+ MB\n",
      "None\n",
      "CPU times: user 1min 29s, sys: 108 ms, total: 1min 29s\n",
      "Wall time: 1min 29s\n"
     ]
    }
   ],
   "source": [
    "%%time\n",
    "train_sample_ratio = 1.0\n",
    "train_data = train_df.sample(frac=train_sample_ratio)\n",
    "train_data['feature'] = train_data.apply(lambda x : x[\"feature\"].view(1, 20, 20), axis = 1)\n",
    "train_data['label'] = train_data.apply(lambda x : x[\"label\"] - 1, axis = 1)\n",
    "print(train_data.info())"
   ]
  },
  {
   "cell_type": "code",
   "execution_count": 7,
   "metadata": {},
   "outputs": [
    {
     "name": "stdout",
     "output_type": "stream",
     "text": [
      "len(train_loader.dataset) =  2798070\n",
      "len(val_loader.dataset) =  28551\n",
      "len(test_loader.dataset) =  28553\n",
      "CPU times: user 8.28 s, sys: 3.33 s, total: 11.6 s\n",
      "Wall time: 10.5 s\n"
     ]
    }
   ],
   "source": [
    "%%time\n",
    "num_classes = 47\n",
    "batch_size = 64\n",
    "num_epochs = 10\n",
    "feature_extract = True\n",
    "\n",
    "train_feature = torch.stack(train_data['feature'].tolist())\n",
    "train_label = torch.tensor(train_data['label'].values.astype(np.long))\n",
    "\n",
    "train_dataset = torch.utils.data.TensorDataset(train_feature, train_label)\n",
    "\n",
    "train_size = int(0.98 * len(train_data))\n",
    "val_size = int(0.01 * len(train_data))\n",
    "test_size = len(train_data) - train_size - val_size\n",
    "train_dataset, val_dataset, test_dataset = torch.utils.data.random_split(train_dataset, [train_size, val_size, test_size])\n",
    "\n",
    "train_loader = torch.utils.data.DataLoader(train_dataset, batch_size=batch_size)\n",
    "val_loader = torch.utils.data.DataLoader(val_dataset, batch_size=batch_size)\n",
    "test_loader = torch.utils.data.DataLoader(test_dataset, batch_size=batch_size)\n",
    "\n",
    "dataloaders_dict = {'train':train_loader, 'val':test_loader}\n",
    "print(\"len(train_loader.dataset) = \", len(train_loader.dataset))\n",
    "print(\"len(val_loader.dataset) = \", len(val_loader.dataset))\n",
    "print(\"len(test_loader.dataset) = \", len(test_loader.dataset))"
   ]
  },
  {
   "cell_type": "code",
   "execution_count": 17,
   "metadata": {},
   "outputs": [
    {
     "name": "stdout",
     "output_type": "stream",
     "text": [
      "cuda:0\n",
      "MyNet(\n",
      "  (conv1): Conv2d(1, 64, kernel_size=(3, 3), stride=(1, 1), padding=(1, 1))\n",
      "  (conv1_bn): BatchNorm2d(64, eps=1e-05, momentum=0.1, affine=True, track_running_stats=True)\n",
      "  (conv2): Conv2d(64, 128, kernel_size=(3, 3), stride=(1, 1), padding=(1, 1))\n",
      "  (conv2_bn): BatchNorm2d(128, eps=1e-05, momentum=0.1, affine=True, track_running_stats=True)\n",
      "  (conv3): Conv2d(128, 256, kernel_size=(3, 3), stride=(1, 1), padding=(1, 1))\n",
      "  (conv3_bn): BatchNorm2d(256, eps=1e-05, momentum=0.1, affine=True, track_running_stats=True)\n",
      "  (conv4): Conv2d(256, 512, kernel_size=(3, 3), stride=(1, 1), padding=(1, 1))\n",
      "  (conv4_bn): BatchNorm2d(512, eps=1e-05, momentum=0.1, affine=True, track_running_stats=True)\n",
      "  (pool): MaxPool2d(kernel_size=2, stride=2, padding=0, dilation=1, ceil_mode=False)\n",
      "  (drop1): Dropout(p=0.5, inplace=False)\n",
      "  (linear1): Linear(in_features=512, out_features=256, bias=True)\n",
      "  (linear2): Linear(in_features=256, out_features=47, bias=True)\n",
      ")\n",
      "Let's use 4 GPUs!\n",
      "Params to learn:\n",
      "\t module.conv1.weight\n",
      "\t module.conv1.bias\n",
      "\t module.conv1_bn.weight\n",
      "\t module.conv1_bn.bias\n",
      "\t module.conv2.weight\n",
      "\t module.conv2.bias\n",
      "\t module.conv2_bn.weight\n",
      "\t module.conv2_bn.bias\n",
      "\t module.conv3.weight\n",
      "\t module.conv3.bias\n",
      "\t module.conv3_bn.weight\n",
      "\t module.conv3_bn.bias\n",
      "\t module.conv4.weight\n",
      "\t module.conv4.bias\n",
      "\t module.conv4_bn.weight\n",
      "\t module.conv4_bn.bias\n",
      "\t module.linear1.weight\n",
      "\t module.linear1.bias\n",
      "\t module.linear2.weight\n",
      "\t module.linear2.bias\n",
      "Epoch 0/9\n",
      "----------\n",
      "train Loss: 1.5272, train Acc: 0.5576\n",
      "val Loss: 0.9216, val Acc: 0.7172\n",
      "time taken: 0:38:15.562916\n",
      "Epoch 1/9\n",
      "----------\n",
      "train Loss: 0.9221, train Acc: 0.7226\n",
      "val Loss: 0.6351, val Acc: 0.8045\n",
      "time taken: 0:38:16.111472\n",
      "Epoch 2/9\n",
      "----------\n",
      "train Loss: 0.7099, train Acc: 0.7834\n",
      "val Loss: 0.4985, val Acc: 0.8436\n",
      "time taken: 0:38:15.001026\n",
      "Epoch 3/9\n",
      "----------\n",
      "train Loss: 0.5914, train Acc: 0.8177\n",
      "val Loss: 0.4125, val Acc: 0.8707\n",
      "time taken: 0:38:15.280455\n",
      "Epoch 4/9\n",
      "----------\n",
      "train Loss: 0.5119, train Acc: 0.8411\n",
      "val Loss: 0.3664, val Acc: 0.8841\n",
      "time taken: 0:38:14.639123\n",
      "Epoch 5/9\n",
      "----------\n",
      "train Loss: 0.4556, train Acc: 0.8581\n",
      "val Loss: 0.3218, val Acc: 0.8982\n",
      "time taken: 0:38:15.067284\n",
      "Epoch 6/9\n",
      "----------\n",
      "train Loss: 0.4108, train Acc: 0.8713\n",
      "val Loss: 0.2978, val Acc: 0.9074\n",
      "time taken: 0:38:14.645320\n",
      "Epoch 7/9\n",
      "----------\n",
      "train Loss: 0.3762, train Acc: 0.8820\n",
      "val Loss: 0.2659, val Acc: 0.9165\n",
      "time taken: 0:38:15.058435\n",
      "Epoch 8/9\n",
      "----------\n",
      "train Loss: 0.3479, train Acc: 0.8905\n",
      "val Loss: 0.2414, val Acc: 0.9229\n",
      "time taken: 0:38:14.780018\n",
      "Epoch 9/9\n",
      "----------\n",
      "train Loss: 0.3242, train Acc: 0.8976\n",
      "val Loss: 0.2285, val Acc: 0.9278\n",
      "time taken: 0:38:15.494661\n",
      "Training complete in 382m 32s\n",
      "Best val Acc: 0.927783\n",
      "CPU times: user 5h 53min 37s, sys: 1h 37min 1s, total: 7h 30min 39s\n",
      "Wall time: 6h 22min 31s\n"
     ]
    }
   ],
   "source": [
    "%%time\n",
    "use_cuda = torch.cuda.is_available()\n",
    "device = torch.device(\"cuda:0\" if use_cuda else \"cpu\")\n",
    "#turn on cpu for troubleshooting as gpu doesnt throw proper error message, runing in cpu shows more specific error message\n",
    "#device = torch.device(\"cpu\") \n",
    "print(device)\n",
    "\n",
    "model_ft = MyNet(batch_size, num_classes).double()\n",
    "print(model_ft)\n",
    "if torch.cuda.device_count() > 1:\n",
    "    print(\"Let's use\", torch.cuda.device_count(), \"GPUs!\")\n",
    "    model_ft = DataParallel(model_ft)\n",
    "\n",
    "model_ft = model_ft.to(device)\n",
    "\n",
    "params_to_update = model_ft.parameters()\n",
    "print(\"Params to learn:\")\n",
    "if feature_extract:\n",
    "    params_to_update = []\n",
    "    for name,param in model_ft.named_parameters():\n",
    "        if param.requires_grad == True:\n",
    "            params_to_update.append(param)\n",
    "            print(\"\\t\",name)\n",
    "else:\n",
    "    for name,param in model_ft.named_parameters():\n",
    "        if param.requires_grad == True:\n",
    "            print(\"\\t\",name)\n",
    "\n",
    "optimizer_ft = torch.optim.SGD(params_to_update, lr=0.001, momentum=0.9)\n",
    "criterion = torch.nn.CrossEntropyLoss()\n",
    "model_ft, hist = train_model(model_ft, dataloaders_dict, criterion, optimizer_ft, num_epochs=num_epochs, is_inception=False)"
   ]
  },
  {
   "cell_type": "code",
   "execution_count": 19,
   "metadata": {},
   "outputs": [
    {
     "name": "stdout",
     "output_type": "stream",
     "text": [
      "Upload from local model_1.2_baseline.model to data/breakfast-img-data/model_1.2_baseline.model\n",
      "CPU times: user 40 ms, sys: 24 ms, total: 64 ms\n",
      "Wall time: 768 ms\n"
     ]
    }
   ],
   "source": [
    "%%time\n",
    "model_name = \"model_1.2_baseline.model\" #renamed to model_1.2.model\n",
    "torch.save(model_ft.state_dict(), model_name)\n",
    "upload_files([model_name])"
   ]
  },
  {
   "cell_type": "code",
   "execution_count": 3,
   "metadata": {},
   "outputs": [
    {
     "name": "stdout",
     "output_type": "stream",
     "text": [
      "cuda:0\n",
      "CPU times: user 3.04 s, sys: 664 ms, total: 3.7 s\n",
      "Wall time: 2.3 s\n"
     ]
    },
    {
     "data": {
      "text/plain": [
       "<All keys matched successfully>"
      ]
     },
     "execution_count": 3,
     "metadata": {},
     "output_type": "execute_result"
    }
   ],
   "source": [
    "%%time\n",
    "use_cuda = torch.cuda.is_available()\n",
    "device = torch.device(\"cuda:0\" if use_cuda else \"cpu\")\n",
    "#turn on cpu for troubleshooting as gpu doesnt throw proper error message, runing in cpu shows more specific error message\n",
    "#device = torch.device(\"cpu\") \n",
    "print(device)\n",
    "\n",
    "model_name = \"model_1.2.model\"\n",
    "model = MyNet(64, 47).double().to(device)\n",
    "model_dict = model.state_dict()\n",
    "trained_model_dict = torch.load(model_name, map_location=device)\n",
    "for k in model_dict:\n",
    "    model_dict[k] = trained_model_dict[\"module.\" + k]\n",
    "    \n",
    "model.load_state_dict(model_dict)"
   ]
  },
  {
   "cell_type": "code",
   "execution_count": 8,
   "metadata": {},
   "outputs": [
    {
     "name": "stdout",
     "output_type": "stream",
     "text": [
      "Accuracy of test data: 90.95303141746349\n",
      "CPU times: user 6.38 s, sys: 1.76 s, total: 8.13 s\n",
      "Wall time: 7.87 s\n"
     ]
    }
   ],
   "source": [
    "%%time\n",
    "correct = 0\n",
    "total = 0\n",
    "with torch.no_grad():\n",
    "    for data in val_loader:\n",
    "        inputs, labels = data[0], data[1]        \n",
    "        inputs, labels = inputs.to(device), labels.to(device)\n",
    "        outputs = model(inputs)\n",
    "        _, predicted = torch.max(outputs.data, 1)\n",
    "        total += labels.size(0)\n",
    "        correct += (predicted == labels).sum().item()\n",
    "\n",
    "print('Accuracy of test data: {0}'.format(100 * correct / total))"
   ]
  },
  {
   "cell_type": "code",
   "execution_count": 9,
   "metadata": {},
   "outputs": [
    {
     "name": "stdout",
     "output_type": "stream",
     "text": [
      "CPU times: user 6.91 s, sys: 400 ms, total: 7.31 s\n",
      "Wall time: 7.3 s\n"
     ]
    },
    {
     "data": {
      "text/html": [
       "<div>\n",
       "<style scoped>\n",
       "    .dataframe tbody tr th:only-of-type {\n",
       "        vertical-align: middle;\n",
       "    }\n",
       "\n",
       "    .dataframe tbody tr th {\n",
       "        vertical-align: top;\n",
       "    }\n",
       "\n",
       "    .dataframe thead th {\n",
       "        text-align: right;\n",
       "    }\n",
       "</style>\n",
       "<table border=\"1\" class=\"dataframe\">\n",
       "  <thead>\n",
       "    <tr style=\"text-align: right;\">\n",
       "      <th></th>\n",
       "      <th>feature</th>\n",
       "      <th>ID</th>\n",
       "    </tr>\n",
       "  </thead>\n",
       "  <tbody>\n",
       "    <tr>\n",
       "      <th>0</th>\n",
       "      <td>[tensor(-15.8486, dtype=torch.float64), tensor...</td>\n",
       "      <td>0</td>\n",
       "    </tr>\n",
       "    <tr>\n",
       "      <th>1</th>\n",
       "      <td>[tensor(-15.7037, dtype=torch.float64), tensor...</td>\n",
       "      <td>0</td>\n",
       "    </tr>\n",
       "    <tr>\n",
       "      <th>2</th>\n",
       "      <td>[tensor(-15.1998, dtype=torch.float64), tensor...</td>\n",
       "      <td>0</td>\n",
       "    </tr>\n",
       "    <tr>\n",
       "      <th>3</th>\n",
       "      <td>[tensor(-15.2123, dtype=torch.float64), tensor...</td>\n",
       "      <td>0</td>\n",
       "    </tr>\n",
       "    <tr>\n",
       "      <th>4</th>\n",
       "      <td>[tensor(-16.0185, dtype=torch.float64), tensor...</td>\n",
       "      <td>0</td>\n",
       "    </tr>\n",
       "    <tr>\n",
       "      <th>...</th>\n",
       "      <td>...</td>\n",
       "      <td>...</td>\n",
       "    </tr>\n",
       "    <tr>\n",
       "      <th>468908</th>\n",
       "      <td>[tensor(-16.3263, dtype=torch.float64), tensor...</td>\n",
       "      <td>1283</td>\n",
       "    </tr>\n",
       "    <tr>\n",
       "      <th>468909</th>\n",
       "      <td>[tensor(-14.9555, dtype=torch.float64), tensor...</td>\n",
       "      <td>1283</td>\n",
       "    </tr>\n",
       "    <tr>\n",
       "      <th>468910</th>\n",
       "      <td>[tensor(-16.1000, dtype=torch.float64), tensor...</td>\n",
       "      <td>1283</td>\n",
       "    </tr>\n",
       "    <tr>\n",
       "      <th>468911</th>\n",
       "      <td>[tensor(-15.5954, dtype=torch.float64), tensor...</td>\n",
       "      <td>1283</td>\n",
       "    </tr>\n",
       "    <tr>\n",
       "      <th>468912</th>\n",
       "      <td>[tensor(-16.4384, dtype=torch.float64), tensor...</td>\n",
       "      <td>1283</td>\n",
       "    </tr>\n",
       "  </tbody>\n",
       "</table>\n",
       "<p>468913 rows × 2 columns</p>\n",
       "</div>"
      ],
      "text/plain": [
       "                                                  feature    ID\n",
       "0       [tensor(-15.8486, dtype=torch.float64), tensor...     0\n",
       "1       [tensor(-15.7037, dtype=torch.float64), tensor...     0\n",
       "2       [tensor(-15.1998, dtype=torch.float64), tensor...     0\n",
       "3       [tensor(-15.2123, dtype=torch.float64), tensor...     0\n",
       "4       [tensor(-16.0185, dtype=torch.float64), tensor...     0\n",
       "...                                                   ...   ...\n",
       "468908  [tensor(-16.3263, dtype=torch.float64), tensor...  1283\n",
       "468909  [tensor(-14.9555, dtype=torch.float64), tensor...  1283\n",
       "468910  [tensor(-16.1000, dtype=torch.float64), tensor...  1283\n",
       "468911  [tensor(-15.5954, dtype=torch.float64), tensor...  1283\n",
       "468912  [tensor(-16.4384, dtype=torch.float64), tensor...  1283\n",
       "\n",
       "[468913 rows x 2 columns]"
      ]
     },
     "execution_count": 9,
     "metadata": {},
     "output_type": "execute_result"
    }
   ],
   "source": [
    "%%time\n",
    "test_df = get_test_data()\n",
    "test_df = splitDataFrameList(test_df, 'feature')\n",
    "test_df"
   ]
  },
  {
   "cell_type": "code",
   "execution_count": 23,
   "metadata": {},
   "outputs": [
    {
     "name": "stdout",
     "output_type": "stream",
     "text": [
      "<class 'pandas.core.frame.DataFrame'>\n",
      "Int64Index: 468913 entries, 42893 to 401625\n",
      "Data columns (total 3 columns):\n",
      " #   Column   Non-Null Count   Dtype \n",
      "---  ------   --------------   ----- \n",
      " 0   feature  468913 non-null  object\n",
      " 1   ID       468913 non-null  int64 \n",
      " 2   label    468913 non-null  int64 \n",
      "dtypes: int64(2), object(1)\n",
      "memory usage: 14.3+ MB\n",
      "None\n"
     ]
    },
    {
     "name": "stderr",
     "output_type": "stream",
     "text": [
      "/opt/conda/lib/python3.7/site-packages/ipykernel_launcher.py:13: UserWarning: Implicit dimension choice for softmax has been deprecated. Change the call to include dim=X as an argument.\n",
      "  del sys.path[0]\n"
     ]
    },
    {
     "name": "stdout",
     "output_type": "stream",
     "text": [
      "CPU times: user 3min 47s, sys: 2min 26s, total: 6min 14s\n",
      "Wall time: 6min 14s\n"
     ]
    }
   ],
   "source": [
    "%%time\n",
    "test_data = test_df.sample(frac = 1.0)\n",
    "print(test_data.info())\n",
    "test_data['feature'] = test_data.apply(lambda x : x[\"feature\"].view(1, 20, 20), axis = 1)\n",
    "test_feature = torch.stack(test_data['feature'].tolist())\n",
    "test_dataset = torch.utils.data.TensorDataset(test_feature)\n",
    "predict_loader = torch.utils.data.DataLoader(test_dataset, batch_size=64)\n",
    "result = []\n",
    "with torch.no_grad():\n",
    "    for data in predict_loader:\n",
    "        inputs = data[0]            \n",
    "        inputs = inputs.to(device)    \n",
    "        outputs = model(inputs)  \n",
    "        prop = torch.nn.functional.softmax(outputs).cpu().tolist()\n",
    "        result = np.append(result, prop)"
   ]
  },
  {
   "cell_type": "code",
   "execution_count": 24,
   "metadata": {},
   "outputs": [
    {
     "name": "stdout",
     "output_type": "stream",
     "text": [
      "<class 'pandas.core.frame.DataFrame'>\n",
      "Int64Index: 1284 entries, 0 to 1283\n",
      "Data columns (total 2 columns):\n",
      " #   Column    Non-Null Count  Dtype\n",
      "---  ------    --------------  -----\n",
      " 0   ID        1284 non-null   int64\n",
      " 1   Category  1284 non-null   int64\n",
      "dtypes: int64(2)\n",
      "memory usage: 30.1 KB\n",
      "None\n",
      "CPU times: user 528 ms, sys: 60 ms, total: 588 ms\n",
      "Wall time: 583 ms\n"
     ]
    }
   ],
   "source": [
    "%%time\n",
    "test_result = pd.DataFrame(result.reshape(-1,47))\n",
    "test_result['ID'] = test_data['ID'].values\n",
    "test_data_mean = test_result.groupby('ID')[list(range(47))].agg(['mean'])\n",
    "test_data_mean.columns = list(range(47))\n",
    "test_data_mean[\"Category\"] = test_data_mean.idxmax(axis = 1)\n",
    "test_data_mean['Category'] = test_data_mean.apply(lambda x : x[\"Category\"] + 1, axis = 1).astype('int') \n",
    "test_data_mean[\"ID\"] = test_data_mean.index\n",
    "test_data_group = test_data_mean[['ID','Category']]\n",
    "print(test_data_group.info())"
   ]
  },
  {
   "cell_type": "code",
   "execution_count": 25,
   "metadata": {},
   "outputs": [
    {
     "data": {
      "text/plain": [
       "35"
      ]
     },
     "execution_count": 25,
     "metadata": {},
     "output_type": "execute_result"
    }
   ],
   "source": [
    "len(test_data_group.Category.unique())"
   ]
  },
  {
   "cell_type": "code",
   "execution_count": 26,
   "metadata": {},
   "outputs": [
    {
     "name": "stdout",
     "output_type": "stream",
     "text": [
      "Upload from local submission_1.2_mean.csv to data/breakfast-img-data/submission_1.2_mean.csv\n"
     ]
    }
   ],
   "source": [
    "submission_name = \"submission_1.2_mean.csv\"\n",
    "test_data_group.to_csv(submission_name, index=False)\n",
    "upload_files([submission_name])"
   ]
  },
  {
   "cell_type": "code",
   "execution_count": 30,
   "metadata": {},
   "outputs": [
    {
     "name": "stdout",
     "output_type": "stream",
     "text": [
      "CPU times: user 1min 52s, sys: 31.1 s, total: 2min 24s\n",
      "Wall time: 2min 24s\n"
     ]
    },
    {
     "data": {
      "text/html": [
       "<div>\n",
       "<style scoped>\n",
       "    .dataframe tbody tr th:only-of-type {\n",
       "        vertical-align: middle;\n",
       "    }\n",
       "\n",
       "    .dataframe tbody tr th {\n",
       "        vertical-align: top;\n",
       "    }\n",
       "\n",
       "    .dataframe thead th {\n",
       "        text-align: right;\n",
       "    }\n",
       "</style>\n",
       "<table border=\"1\" class=\"dataframe\">\n",
       "  <thead>\n",
       "    <tr style=\"text-align: right;\">\n",
       "      <th></th>\n",
       "      <th>feature</th>\n",
       "      <th>ID</th>\n",
       "      <th>label</th>\n",
       "    </tr>\n",
       "  </thead>\n",
       "  <tbody>\n",
       "    <tr>\n",
       "      <th>0</th>\n",
       "      <td>[[[tensor(-15.8486, dtype=torch.float64), tens...</td>\n",
       "      <td>0</td>\n",
       "      <td>28</td>\n",
       "    </tr>\n",
       "    <tr>\n",
       "      <th>1</th>\n",
       "      <td>[[[tensor(-15.7037, dtype=torch.float64), tens...</td>\n",
       "      <td>0</td>\n",
       "      <td>28</td>\n",
       "    </tr>\n",
       "    <tr>\n",
       "      <th>2</th>\n",
       "      <td>[[[tensor(-15.1998, dtype=torch.float64), tens...</td>\n",
       "      <td>0</td>\n",
       "      <td>28</td>\n",
       "    </tr>\n",
       "    <tr>\n",
       "      <th>3</th>\n",
       "      <td>[[[tensor(-15.2123, dtype=torch.float64), tens...</td>\n",
       "      <td>0</td>\n",
       "      <td>19</td>\n",
       "    </tr>\n",
       "    <tr>\n",
       "      <th>4</th>\n",
       "      <td>[[[tensor(-16.0185, dtype=torch.float64), tens...</td>\n",
       "      <td>0</td>\n",
       "      <td>12</td>\n",
       "    </tr>\n",
       "    <tr>\n",
       "      <th>...</th>\n",
       "      <td>...</td>\n",
       "      <td>...</td>\n",
       "      <td>...</td>\n",
       "    </tr>\n",
       "    <tr>\n",
       "      <th>468908</th>\n",
       "      <td>[[[tensor(-16.3263, dtype=torch.float64), tens...</td>\n",
       "      <td>1283</td>\n",
       "      <td>36</td>\n",
       "    </tr>\n",
       "    <tr>\n",
       "      <th>468909</th>\n",
       "      <td>[[[tensor(-14.9555, dtype=torch.float64), tens...</td>\n",
       "      <td>1283</td>\n",
       "      <td>25</td>\n",
       "    </tr>\n",
       "    <tr>\n",
       "      <th>468910</th>\n",
       "      <td>[[[tensor(-16.1000, dtype=torch.float64), tens...</td>\n",
       "      <td>1283</td>\n",
       "      <td>1</td>\n",
       "    </tr>\n",
       "    <tr>\n",
       "      <th>468911</th>\n",
       "      <td>[[[tensor(-15.5954, dtype=torch.float64), tens...</td>\n",
       "      <td>1283</td>\n",
       "      <td>1</td>\n",
       "    </tr>\n",
       "    <tr>\n",
       "      <th>468912</th>\n",
       "      <td>[[[tensor(-16.4384, dtype=torch.float64), tens...</td>\n",
       "      <td>1283</td>\n",
       "      <td>26</td>\n",
       "    </tr>\n",
       "  </tbody>\n",
       "</table>\n",
       "<p>468913 rows × 3 columns</p>\n",
       "</div>"
      ],
      "text/plain": [
       "                                                  feature    ID  label\n",
       "0       [[[tensor(-15.8486, dtype=torch.float64), tens...     0     28\n",
       "1       [[[tensor(-15.7037, dtype=torch.float64), tens...     0     28\n",
       "2       [[[tensor(-15.1998, dtype=torch.float64), tens...     0     28\n",
       "3       [[[tensor(-15.2123, dtype=torch.float64), tens...     0     19\n",
       "4       [[[tensor(-16.0185, dtype=torch.float64), tens...     0     12\n",
       "...                                                   ...   ...    ...\n",
       "468908  [[[tensor(-16.3263, dtype=torch.float64), tens...  1283     36\n",
       "468909  [[[tensor(-14.9555, dtype=torch.float64), tens...  1283     25\n",
       "468910  [[[tensor(-16.1000, dtype=torch.float64), tens...  1283      1\n",
       "468911  [[[tensor(-15.5954, dtype=torch.float64), tens...  1283      1\n",
       "468912  [[[tensor(-16.4384, dtype=torch.float64), tens...  1283     26\n",
       "\n",
       "[468913 rows x 3 columns]"
      ]
     },
     "execution_count": 30,
     "metadata": {},
     "output_type": "execute_result"
    }
   ],
   "source": [
    "%%time\n",
    "test_df = get_test_data()\n",
    "test_df = splitDataFrameList(test_df, 'feature')\n",
    "test_df['feature'] = test_df.apply(lambda x : x[\"feature\"].view(1, 20, 20), axis = 1)\n",
    "test_feature = torch.stack(test_df['feature'].tolist())\n",
    "test_dataset = torch.utils.data.TensorDataset(test_feature)\n",
    "predict_loader = torch.utils.data.DataLoader(test_dataset, batch_size=64, shuffle=False)\n",
    "result = []\n",
    "with torch.no_grad():\n",
    "    for data in predict_loader:\n",
    "        inputs = data[0]\n",
    "        inputs = inputs.to(device) \n",
    "        outputs = model(inputs)\n",
    "        _, predicted = torch.max(outputs.data, 1)\n",
    "        result = np.append(result, predicted.cpu())\n",
    "\n",
    "test_df['label'] = np.transpose(result).astype('int') \n",
    "test_df"
   ]
  },
  {
   "cell_type": "code",
   "execution_count": 31,
   "metadata": {},
   "outputs": [
    {
     "name": "stdout",
     "output_type": "stream",
     "text": [
      "CPU times: user 200 ms, sys: 4 ms, total: 204 ms\n",
      "Wall time: 202 ms\n"
     ]
    },
    {
     "data": {
      "text/html": [
       "<div>\n",
       "<style scoped>\n",
       "    .dataframe tbody tr th:only-of-type {\n",
       "        vertical-align: middle;\n",
       "    }\n",
       "\n",
       "    .dataframe tbody tr th {\n",
       "        vertical-align: top;\n",
       "    }\n",
       "\n",
       "    .dataframe thead th {\n",
       "        text-align: right;\n",
       "    }\n",
       "</style>\n",
       "<table border=\"1\" class=\"dataframe\">\n",
       "  <thead>\n",
       "    <tr style=\"text-align: right;\">\n",
       "      <th></th>\n",
       "      <th>ID</th>\n",
       "      <th>Category</th>\n",
       "    </tr>\n",
       "  </thead>\n",
       "  <tbody>\n",
       "    <tr>\n",
       "      <th>0</th>\n",
       "      <td>0</td>\n",
       "      <td>14</td>\n",
       "    </tr>\n",
       "    <tr>\n",
       "      <th>1</th>\n",
       "      <td>1</td>\n",
       "      <td>32</td>\n",
       "    </tr>\n",
       "    <tr>\n",
       "      <th>2</th>\n",
       "      <td>2</td>\n",
       "      <td>2</td>\n",
       "    </tr>\n",
       "    <tr>\n",
       "      <th>3</th>\n",
       "      <td>3</td>\n",
       "      <td>11</td>\n",
       "    </tr>\n",
       "    <tr>\n",
       "      <th>4</th>\n",
       "      <td>4</td>\n",
       "      <td>29</td>\n",
       "    </tr>\n",
       "    <tr>\n",
       "      <th>...</th>\n",
       "      <td>...</td>\n",
       "      <td>...</td>\n",
       "    </tr>\n",
       "    <tr>\n",
       "      <th>1279</th>\n",
       "      <td>1279</td>\n",
       "      <td>44</td>\n",
       "    </tr>\n",
       "    <tr>\n",
       "      <th>1280</th>\n",
       "      <td>1280</td>\n",
       "      <td>29</td>\n",
       "    </tr>\n",
       "    <tr>\n",
       "      <th>1281</th>\n",
       "      <td>1281</td>\n",
       "      <td>15</td>\n",
       "    </tr>\n",
       "    <tr>\n",
       "      <th>1282</th>\n",
       "      <td>1282</td>\n",
       "      <td>2</td>\n",
       "    </tr>\n",
       "    <tr>\n",
       "      <th>1283</th>\n",
       "      <td>1283</td>\n",
       "      <td>2</td>\n",
       "    </tr>\n",
       "  </tbody>\n",
       "</table>\n",
       "<p>1284 rows × 2 columns</p>\n",
       "</div>"
      ],
      "text/plain": [
       "        ID  Category\n",
       "0        0        14\n",
       "1        1        32\n",
       "2        2         2\n",
       "3        3        11\n",
       "4        4        29\n",
       "...    ...       ...\n",
       "1279  1279        44\n",
       "1280  1280        29\n",
       "1281  1281        15\n",
       "1282  1282         2\n",
       "1283  1283         2\n",
       "\n",
       "[1284 rows x 2 columns]"
      ]
     },
     "execution_count": 31,
     "metadata": {},
     "output_type": "execute_result"
    }
   ],
   "source": [
    "%%time\n",
    "test_data_group = test_df.groupby('ID')['label'].apply(list).reset_index(name='labels')\n",
    "test_data_group['Category'] = test_data_group.apply(lambda x : np.argmax(np.bincount(x.labels)) + 1, axis = 1)\n",
    "test_data_group = test_data_group[['ID','Category']]\n",
    "test_data_group"
   ]
  },
  {
   "cell_type": "code",
   "execution_count": 32,
   "metadata": {},
   "outputs": [
    {
     "data": {
      "text/plain": [
       "array([14, 32,  2, 11, 29, 15, 13, 21, 44, 12, 20, 25, 46, 39,  1, 37, 34,\n",
       "       17, 27, 26,  5, 24,  6, 28, 19, 33, 45])"
      ]
     },
     "execution_count": 32,
     "metadata": {},
     "output_type": "execute_result"
    }
   ],
   "source": [
    "test_data_group.Category.unique()"
   ]
  },
  {
   "cell_type": "code",
   "execution_count": 33,
   "metadata": {},
   "outputs": [
    {
     "data": {
      "text/plain": [
       "27"
      ]
     },
     "execution_count": 33,
     "metadata": {},
     "output_type": "execute_result"
    }
   ],
   "source": [
    "len(test_data_group.Category.unique())"
   ]
  },
  {
   "cell_type": "code",
   "execution_count": 34,
   "metadata": {},
   "outputs": [],
   "source": [
    "submission_name = \"submission_1.2_max.csv\"\n",
    "test_data_group.to_csv(submission_name, index=False)"
   ]
  },
  {
   "cell_type": "code",
   "execution_count": 35,
   "metadata": {},
   "outputs": [
    {
     "name": "stdout",
     "output_type": "stream",
     "text": [
      "Upload from local submission_1.2_max.csv to data/breakfast-img-data/submission_1.2_max.csv\n"
     ]
    }
   ],
   "source": [
    "upload_files([submission_name])"
   ]
  },
  {
   "cell_type": "code",
   "execution_count": 38,
   "metadata": {},
   "outputs": [
    {
     "name": "stdout",
     "output_type": "stream",
     "text": [
      "<class 'pandas.core.frame.DataFrame'>\n",
      "Int64Index: 468913 entries, 262608 to 203380\n",
      "Data columns (total 3 columns):\n",
      " #   Column   Non-Null Count   Dtype \n",
      "---  ------   --------------   ----- \n",
      " 0   feature  468913 non-null  object\n",
      " 1   ID       468913 non-null  int64 \n",
      " 2   label    468913 non-null  int64 \n",
      "dtypes: int64(2), object(1)\n",
      "memory usage: 14.3+ MB\n",
      "None\n",
      "CPU times: user 3min 51s, sys: 2min 26s, total: 6min 17s\n",
      "Wall time: 6min 17s\n"
     ]
    }
   ],
   "source": [
    "%%time\n",
    "test_data = test_df.sample(frac = 1.0)\n",
    "print(test_data.info())\n",
    "test_data['feature'] = test_data.apply(lambda x : x[\"feature\"].view(1, 20, 20), axis = 1)\n",
    "test_feature = torch.stack(test_data['feature'].tolist())\n",
    "test_dataset = torch.utils.data.TensorDataset(test_feature)\n",
    "predict_loader = torch.utils.data.DataLoader(test_dataset, batch_size=64)\n",
    "result = []\n",
    "with torch.no_grad():\n",
    "    for data in predict_loader:\n",
    "        inputs = data[0]            \n",
    "        inputs = inputs.to(device)    \n",
    "        outputs = model(inputs)  \n",
    "        prop = outputs.cpu().tolist()\n",
    "        result = np.append(result, prop)"
   ]
  },
  {
   "cell_type": "code",
   "execution_count": 39,
   "metadata": {},
   "outputs": [
    {
     "name": "stdout",
     "output_type": "stream",
     "text": [
      "<class 'pandas.core.frame.DataFrame'>\n",
      "Int64Index: 1284 entries, 0 to 1283\n",
      "Data columns (total 2 columns):\n",
      " #   Column    Non-Null Count  Dtype\n",
      "---  ------    --------------  -----\n",
      " 0   ID        1284 non-null   int64\n",
      " 1   Category  1284 non-null   int64\n",
      "dtypes: int64(2)\n",
      "memory usage: 30.1 KB\n",
      "None\n",
      "CPU times: user 512 ms, sys: 72 ms, total: 584 ms\n",
      "Wall time: 583 ms\n"
     ]
    }
   ],
   "source": [
    "%%time\n",
    "test_result = pd.DataFrame(result.reshape(-1,47))\n",
    "test_result['ID'] = test_data['ID'].values\n",
    "test_data_mean = test_result.groupby('ID')[list(range(47))].agg(['sum'])\n",
    "test_data_mean.columns = list(range(47))\n",
    "test_data_mean[\"Category\"] = test_data_mean.idxmax(axis = 1)\n",
    "test_data_mean['Category'] = test_data_mean.apply(lambda x : x[\"Category\"] + 1, axis = 1).astype('int') \n",
    "test_data_mean[\"ID\"] = test_data_mean.index\n",
    "test_data_group = test_data_mean[['ID','Category']]\n",
    "print(test_data_group.info())"
   ]
  },
  {
   "cell_type": "code",
   "execution_count": 40,
   "metadata": {},
   "outputs": [
    {
     "data": {
      "text/plain": [
       "38"
      ]
     },
     "execution_count": 40,
     "metadata": {},
     "output_type": "execute_result"
    }
   ],
   "source": [
    "len(test_data_group.Category.unique())"
   ]
  },
  {
   "cell_type": "code",
   "execution_count": 41,
   "metadata": {},
   "outputs": [
    {
     "name": "stdout",
     "output_type": "stream",
     "text": [
      "Upload from local submission_1.2_sum.csv to data/breakfast-img-data/submission_1.2_sum.csv\n"
     ]
    }
   ],
   "source": [
    "submission_name = \"submission_1.2_sum.csv\"\n",
    "test_data_group.to_csv(submission_name, index=False)\n",
    "upload_files([submission_name])"
   ]
  }
 ],
 "metadata": {
  "kernelspec": {
   "display_name": "Python 3",
   "language": "python",
   "name": "python3"
  },
  "language_info": {
   "codemirror_mode": {
    "name": "ipython",
    "version": 3
   },
   "file_extension": ".py",
   "mimetype": "text/x-python",
   "name": "python",
   "nbconvert_exporter": "python",
   "pygments_lexer": "ipython3",
   "version": "3.7.6"
  }
 },
 "nbformat": 4,
 "nbformat_minor": 4
}
