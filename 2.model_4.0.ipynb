{
 "cells": [
  {
   "cell_type": "code",
   "execution_count": 1,
   "metadata": {},
   "outputs": [
    {
     "name": "stdout",
     "output_type": "stream",
     "text": [
      "cuda:0\n",
      "CPU times: user 424 ms, sys: 44 ms, total: 468 ms\n",
      "Wall time: 469 ms\n"
     ]
    },
    {
     "data": {
      "text/plain": [
       "<torch._C.Generator at 0x7f94f00e6d50>"
      ]
     },
     "execution_count": 1,
     "metadata": {},
     "output_type": "execute_result"
    }
   ],
   "source": [
    "%%time\n",
    "import joblib, time, os, copy, datetime\n",
    "import numpy as np\n",
    "import pandas as pd\n",
    "import matplotlib.pyplot as plt\n",
    "\n",
    "from torch.nn import *\n",
    "from torch.nn.functional import *\n",
    "\n",
    "import torch\n",
    "import torchvision\n",
    "\n",
    "#enable it when running in google cloud, to upload/download file from/to VM to/from google cloud bucket\n",
    "from google.cloud import storage\n",
    "\n",
    "bucket_root_path = \"weicheng30417\"\n",
    "project_data_folder = \"data/breakfast-img-data/\"\n",
    "\n",
    "use_cuda = torch.cuda.is_available()\n",
    "device = torch.device(\"cuda:0\" if use_cuda else \"cpu\")\n",
    "#turn on cpu for troubleshooting as gpu doesnt throw proper error message, runing in cpu shows more specific error message\n",
    "#device = torch.device(\"cpu\") \n",
    "print(device)\n",
    "torch.manual_seed(0)"
   ]
  },
  {
   "cell_type": "code",
   "execution_count": 2,
   "metadata": {},
   "outputs": [],
   "source": [
    "def download_all_data_from_bucket():\n",
    "    storage_client = storage.Client()\n",
    "    bucket = storage_client.get_bucket(bucket_root_path)\n",
    "    file_id = project_data_folder\n",
    "    blobs=bucket.list_blobs(prefix=file_id)\n",
    "    for blob in blobs:        \n",
    "        file_names = blob.name.split(\"/\")\n",
    "        if len(file_names) == 3:\n",
    "            if file_names[2] != \"\":\n",
    "                file_name = file_names[2]            \n",
    "                blob.download_to_filename(file_name)\n",
    "                print(\"Download from {0} to local {1}\".format(blob.name, file_name))\n",
    "                \n",
    "\n",
    "def download_file_from_bucket(file):\n",
    "    storage_client = storage.Client()\n",
    "    bucket = storage_client.get_bucket(bucket_root_path)\n",
    "    butcketFile = project_data_folder + file\n",
    "    blob = bucket.blob(butcketFile)\n",
    "    blob.download_to_filename(file)\n",
    "    print(\"Download from {0} to local {1}\".format(butcketFile, file))\n",
    "    \n",
    "                \n",
    "def upload_files(files):\n",
    "    storage_client = storage.Client()\n",
    "    bucket = storage_client.get_bucket(bucket_root_path)\n",
    "    for file in files:\n",
    "        butcketFile = project_data_folder + file\n",
    "        blob = bucket.blob(butcketFile)\n",
    "        blob.upload_from_filename(file)\n",
    "        print(\"Upload from local {0} to {1}\".format(file, butcketFile))\n",
    "\n",
    "def upload_all_files():    \n",
    "    storage_client = storage.Client()\n",
    "    bucket = storage_client.get_bucket(bucket_root_path)\n",
    "    \n",
    "    directory = os.getcwd()\n",
    "    for file in os.listdir(directory):\n",
    "        filename = os.fsdecode(file)\n",
    "        if filename.endswith(\".csv\") or filename.endswith(\".ipynb\") or filename.endswith(\".model\"):             \n",
    "            butcketFile = project_data_folder + file\n",
    "            blob = bucket.blob(butcketFile)\n",
    "            blob.upload_from_filename(filename)\n",
    "            print(\"Upload from local {0} to {1}\".format(filename, butcketFile))        \n",
    "        \n",
    "        \n",
    "def flatten(ls):\n",
    "     for item in ls:\n",
    "            for child in list(item):\n",
    "                yield child\n",
    "\n",
    "def get_segment_positions(x):\n",
    "    ps = x.segment.split()\n",
    "    ls = []\n",
    "    for i in range(len(ps)-1):\n",
    "        if i == 0:\n",
    "            ls.append([int(ps[i]), int(ps[i+1])])\n",
    "        else:\n",
    "            ls.append([int(ps[i])+1, int(ps[i+1])])        \n",
    "    return ls\n",
    "\n",
    "def get_segment_features(x):\n",
    "    ls = []\n",
    "    for rg in x.positions:\n",
    "        ls.append(x.feature[rg[0]:rg[1]])            \n",
    "    return ls\n",
    "\n",
    "def splitDataFrameList(df,target_column):\n",
    "    def splitListToRows(row,row_accumulator,target_column):\n",
    "        split_row = row[target_column]\n",
    "        for s in split_row:\n",
    "            new_row = row.to_dict()\n",
    "            new_row[target_column] = s\n",
    "            row_accumulator.append(new_row)\n",
    "    new_rows = []\n",
    "    df.apply(splitListToRows,axis=1,args = (new_rows,target_column))\n",
    "    new_df = pd.DataFrame(new_rows)\n",
    "    return new_df\n",
    "                \n",
    "def get_train_data():\n",
    "    training_segment = pd.read_csv('training_segment.txt', header=None, names = ['segment'])\n",
    "    training_segment['feature'] = joblib.load('train_feature.joblib')\n",
    "    training_segment['positions'] = training_segment.apply(lambda x: get_segment_positions(x), axis=1)\n",
    "    training_segment['feature'] = training_segment.apply(lambda x: get_segment_features(x), axis=1)\n",
    "    training_segment = splitDataFrameList(training_segment, 'feature')\n",
    "    training_segment['label'] = list(flatten(joblib.load('train_label.joblib')))\n",
    "    training_segment = training_segment.drop(['segment','positions'], axis = 1)\n",
    "    return training_segment\n",
    "\n",
    "def get_test_data():\n",
    "    test_segment = pd.read_csv('test_segment.txt', header=None, names = ['segment'])\n",
    "    test_segment['feature'] = joblib.load('test_feature.joblib')\n",
    "    test_segment['positions'] = test_segment.apply(lambda x: get_segment_positions(x), axis=1)\n",
    "    test_segment['feature'] = test_segment.apply(lambda x: get_segment_features(x), axis=1)\n",
    "    test_segment = splitDataFrameList(test_segment, 'feature')\n",
    "    test_segment['ID'] = test_segment.index\n",
    "    test_segment = test_segment.drop(['segment','positions'], axis = 1)\n",
    "    return test_segment\n",
    "\n",
    "def set_parameter_requires_grad(model, feature_extracting):\n",
    "    if feature_extracting:\n",
    "        for param in model.parameters():\n",
    "            param.requires_grad = False\n",
    "\n",
    "def train_model(model, dataloaders, criterion, optimizer, num_epochs=25, is_inception=False):\n",
    "    since = time.time()\n",
    "\n",
    "    val_acc_history = []\n",
    "\n",
    "    best_model_wts = copy.deepcopy(model.state_dict())\n",
    "    best_acc = 0.0\n",
    "    \n",
    "    for epoch in range(num_epochs):\n",
    "        ms = time.time()\n",
    "        print('Epoch {}/{}'.format(epoch, num_epochs - 1))\n",
    "        print('-' * 10)\n",
    "\n",
    "        # Each epoch has a training and validation phase\n",
    "        for phase in ['train', 'val']:\n",
    "            if phase == 'train':\n",
    "                model.train()\n",
    "            else:\n",
    "                model.eval()\n",
    "\n",
    "            running_loss = 0.0\n",
    "            running_corrects = 0\n",
    "\n",
    "            for inputs, labels in dataloaders[phase]:                \n",
    "                inputs = inputs.to(device)\n",
    "                labels = labels.to(device)\n",
    "                \n",
    "                optimizer.zero_grad()\n",
    "                with torch.set_grad_enabled(phase == 'train'):\n",
    "                    if is_inception and phase == 'train':\n",
    "                        outputs, aux_outputs = model(inputs)\n",
    "                        loss1 = criterion(outputs, labels)\n",
    "                        loss2 = criterion(aux_outputs, labels)\n",
    "                        loss = loss1 + 0.4*loss2\n",
    "                    else:\n",
    "                        outputs = model(inputs)\n",
    "                        loss = criterion(outputs, labels)\n",
    "\n",
    "                    _, preds = torch.max(outputs, 1)\n",
    "\n",
    "                    if phase == 'train':\n",
    "                        loss.backward()\n",
    "                        optimizer.step()\n",
    "\n",
    "                running_loss += loss.item() * inputs.size(0)\n",
    "                running_corrects += torch.sum(preds == labels.data)\n",
    "\n",
    "            epoch_loss = running_loss / len(dataloaders[phase].dataset)\n",
    "            epoch_acc = running_corrects.double() / len(dataloaders[phase].dataset)           \n",
    "\n",
    "            if phase == 'val' and epoch_acc > best_acc:\n",
    "                best_acc = epoch_acc\n",
    "                best_model_wts = copy.deepcopy(model.state_dict())\n",
    "            if phase == 'val':\n",
    "                val_acc_history.append(epoch_acc)            \n",
    "            print('{} Loss: {:.4f}, {} Acc: {:.4f}'.format(phase, epoch_loss, phase, epoch_acc))\n",
    "        \n",
    "        time_taken = str(datetime.timedelta(seconds=time.time() - ms))\n",
    "        print('time taken: {}'.format(time_taken))\n",
    "            \n",
    "\n",
    "    time_elapsed = time.time() - since\n",
    "    print('Training complete in {:.0f}m {:.0f}s'.format(time_elapsed // 60, time_elapsed % 60))\n",
    "    print('Best val Acc: {:4f}'.format(best_acc))\n",
    "\n",
    "    model.load_state_dict(best_model_wts)\n",
    "    return model, val_acc_history"
   ]
  },
  {
   "cell_type": "code",
   "execution_count": 3,
   "metadata": {},
   "outputs": [
    {
     "name": "stdout",
     "output_type": "stream",
     "text": [
      "torch.Size([260, 400])\n",
      "<class 'pandas.core.frame.DataFrame'>\n",
      "RangeIndex: 7075 entries, 0 to 7074\n",
      "Data columns (total 2 columns):\n",
      " #   Column   Non-Null Count  Dtype \n",
      "---  ------   --------------  ----- \n",
      " 0   feature  7075 non-null   object\n",
      " 1   label    7075 non-null   int64 \n",
      "dtypes: int64(1), object(1)\n",
      "memory usage: 110.7+ KB\n",
      "None\n",
      "CPU times: user 2.82 s, sys: 11.2 s, total: 14 s\n",
      "Wall time: 36.3 s\n"
     ]
    }
   ],
   "source": [
    "%%time\n",
    "train_df = get_train_data()\n",
    "print(train_df.feature[0].shape)\n",
    "print(train_df.info())"
   ]
  },
  {
   "cell_type": "code",
   "execution_count": 16,
   "metadata": {},
   "outputs": [
    {
     "name": "stdout",
     "output_type": "stream",
     "text": [
      "<class 'pandas.core.frame.DataFrame'>\n",
      "Int64Index: 7075 entries, 633 to 6240\n",
      "Data columns (total 4 columns):\n",
      " #   Column        Non-Null Count  Dtype \n",
      "---  ------        --------------  ----- \n",
      " 0   feature       7075 non-null   object\n",
      " 1   label         7075 non-null   int64 \n",
      " 2   feature_sum   7075 non-null   object\n",
      " 3   feature_mean  7075 non-null   object\n",
      "dtypes: int64(1), object(3)\n",
      "memory usage: 276.4+ KB\n",
      "None\n",
      "CPU times: user 17.7 s, sys: 764 ms, total: 18.5 s\n",
      "Wall time: 2.33 s\n"
     ]
    }
   ],
   "source": [
    "%%time\n",
    "train_sample_ratio = 1.0\n",
    "train_data = train_df.sample(frac=train_sample_ratio)\n",
    "train_data['feature_sum'] = train_data.apply(lambda x : torch.sum(x['feature'], dim=0).view(1,400), axis = 1)\n",
    "train_data['feature_mean'] = train_data.apply(lambda x : torch.mean(x['feature'], dim=0).view(1,400), axis = 1)\n",
    "train_data['label'] = train_data.apply(lambda x : x[\"label\"] - 1, axis = 1)\n",
    "print(train_data.info())"
   ]
  },
  {
   "cell_type": "code",
   "execution_count": 17,
   "metadata": {},
   "outputs": [
    {
     "name": "stdout",
     "output_type": "stream",
     "text": [
      "len(train_loader.dataset) =  5660\n",
      "len(val_loader.dataset) =  707\n",
      "len(test_loader.dataset) =  708\n",
      "CPU times: user 40 ms, sys: 12 ms, total: 52 ms\n",
      "Wall time: 49.7 ms\n"
     ]
    }
   ],
   "source": [
    "%%time\n",
    "num_classes = 47\n",
    "batch_size = 64\n",
    "num_epochs = 10\n",
    "feature_extract = True\n",
    "\n",
    "train_feature = torch.stack(train_data['feature_mean'].tolist())\n",
    "train_label = torch.tensor(train_data['label'].values.astype(np.long))\n",
    "\n",
    "train_dataset = torch.utils.data.TensorDataset(train_feature, train_label)\n",
    "\n",
    "train_size = int(0.8 * len(train_data))\n",
    "val_size = int(0.1 * len(train_data))\n",
    "test_size = len(train_data) - train_size - val_size\n",
    "train_dataset, val_dataset, test_dataset = torch.utils.data.random_split(train_dataset, [train_size, val_size, test_size])\n",
    "\n",
    "train_loader = torch.utils.data.DataLoader(train_dataset, batch_size=batch_size)\n",
    "val_loader = torch.utils.data.DataLoader(val_dataset, batch_size=batch_size)\n",
    "test_loader = torch.utils.data.DataLoader(test_dataset, batch_size=batch_size)\n",
    "\n",
    "dataloaders_dict = {'train':train_loader, 'val':test_loader}\n",
    "print(\"len(train_loader.dataset) = \", len(train_loader.dataset))\n",
    "print(\"len(val_loader.dataset) = \", len(val_loader.dataset))\n",
    "print(\"len(test_loader.dataset) = \", len(test_loader.dataset))"
   ]
  },
  {
   "cell_type": "code",
   "execution_count": 21,
   "metadata": {},
   "outputs": [
    {
     "name": "stdout",
     "output_type": "stream",
     "text": [
      "cuda:0\n",
      "MyNet(\n",
      "  (conv1): Conv1d(1, 64, kernel_size=(3,), stride=(1,), padding=(1,))\n",
      "  (conv1_bn): BatchNorm1d(64, eps=1e-05, momentum=0.1, affine=True, track_running_stats=True)\n",
      "  (conv2): Conv1d(64, 128, kernel_size=(3,), stride=(1,), padding=(1,))\n",
      "  (conv2_bn): BatchNorm1d(128, eps=1e-05, momentum=0.1, affine=True, track_running_stats=True)\n",
      "  (conv3): Conv1d(128, 256, kernel_size=(3,), stride=(1,), padding=(1,))\n",
      "  (conv3_bn): BatchNorm1d(256, eps=1e-05, momentum=0.1, affine=True, track_running_stats=True)\n",
      "  (conv4): Conv1d(256, 512, kernel_size=(3,), stride=(1,), padding=(1,))\n",
      "  (conv4_bn): BatchNorm1d(512, eps=1e-05, momentum=0.1, affine=True, track_running_stats=True)\n",
      "  (pool): MaxPool1d(kernel_size=2, stride=2, padding=0, dilation=1, ceil_mode=False)\n",
      "  (drop1): Dropout(p=0.5, inplace=False)\n",
      "  (linear1): Linear(in_features=12800, out_features=256, bias=True)\n",
      "  (linear2): Linear(in_features=256, out_features=47, bias=True)\n",
      ")\n",
      "Params to learn:\n",
      "\t conv1.weight\n",
      "\t conv1.bias\n",
      "\t conv1_bn.weight\n",
      "\t conv1_bn.bias\n",
      "\t conv2.weight\n",
      "\t conv2.bias\n",
      "\t conv2_bn.weight\n",
      "\t conv2_bn.bias\n",
      "\t conv3.weight\n",
      "\t conv3.bias\n",
      "\t conv3_bn.weight\n",
      "\t conv3_bn.bias\n",
      "\t conv4.weight\n",
      "\t conv4.bias\n",
      "\t conv4_bn.weight\n",
      "\t conv4_bn.bias\n",
      "\t linear1.weight\n",
      "\t linear1.bias\n",
      "\t linear2.weight\n",
      "\t linear2.bias\n",
      "Epoch 0/9\n",
      "----------\n",
      "train Loss: 3.4775, train Acc: 0.1293\n",
      "val Loss: 3.0952, val Acc: 0.2458\n",
      "time taken: 0:00:08.213132\n",
      "Epoch 1/9\n",
      "----------\n",
      "train Loss: 3.0081, train Acc: 0.2208\n",
      "val Loss: 2.7017, val Acc: 0.3136\n",
      "time taken: 0:00:08.209899\n",
      "Epoch 2/9\n",
      "----------\n",
      "train Loss: 2.6850, train Acc: 0.2813\n",
      "val Loss: 2.4428, val Acc: 0.3616\n",
      "time taken: 0:00:08.205172\n",
      "Epoch 3/9\n",
      "----------\n",
      "train Loss: 2.4458, train Acc: 0.3228\n",
      "val Loss: 2.2502, val Acc: 0.3927\n",
      "time taken: 0:00:08.218472\n",
      "Epoch 4/9\n",
      "----------\n",
      "train Loss: 2.2758, train Acc: 0.3606\n",
      "val Loss: 2.1071, val Acc: 0.4209\n",
      "time taken: 0:00:08.206992\n",
      "Epoch 5/9\n",
      "----------\n",
      "train Loss: 2.1344, train Acc: 0.3926\n",
      "val Loss: 1.9935, val Acc: 0.4548\n",
      "time taken: 0:00:08.209877\n",
      "Epoch 6/9\n",
      "----------\n",
      "train Loss: 2.0233, train Acc: 0.4118\n",
      "val Loss: 1.9076, val Acc: 0.4576\n",
      "time taken: 0:00:08.199121\n",
      "Epoch 7/9\n",
      "----------\n",
      "train Loss: 1.9199, train Acc: 0.4435\n",
      "val Loss: 1.8230, val Acc: 0.4689\n",
      "time taken: 0:00:08.210133\n",
      "Epoch 8/9\n",
      "----------\n",
      "train Loss: 1.8316, train Acc: 0.4599\n",
      "val Loss: 1.7538, val Acc: 0.4887\n",
      "time taken: 0:00:08.219524\n",
      "Epoch 9/9\n",
      "----------\n",
      "train Loss: 1.7378, train Acc: 0.4708\n",
      "val Loss: 1.7152, val Acc: 0.5014\n",
      "time taken: 0:00:08.212246\n",
      "Training complete in 1m 22s\n",
      "Best val Acc: 0.501412\n",
      "CPU times: user 1min 4s, sys: 18.8 s, total: 1min 23s\n",
      "Wall time: 1min 22s\n"
     ]
    }
   ],
   "source": [
    "%%time\n",
    "class MyNet(Module):\n",
    "    def __init__(self, batch_size, num_classes):\n",
    "        super(MyNet, self).__init__()\n",
    "        self.conv1 = Conv1d(in_channels=1, out_channels=batch_size, kernel_size=3, padding=1)\n",
    "        self.conv1_bn = BatchNorm1d(num_features=batch_size)\n",
    "        self.conv2 = Conv1d(in_channels=batch_size, out_channels=batch_size*2, kernel_size=3, padding=1)\n",
    "        self.conv2_bn = BatchNorm1d(num_features=batch_size*2)\n",
    "        self.conv3 = Conv1d(in_channels=batch_size*2, out_channels=batch_size*4, kernel_size=3, padding=1)\n",
    "        self.conv3_bn = BatchNorm1d(num_features=batch_size*4)\n",
    "        self.conv4 = Conv1d(in_channels=batch_size*4, out_channels=batch_size*8, kernel_size=3, padding=1)\n",
    "        self.conv4_bn = BatchNorm1d(num_features=batch_size*8)\n",
    "        self.pool = MaxPool1d(2, 2)\n",
    "        self.drop1 = Dropout(0.5)\n",
    "        self.linear1 = Linear(in_features=12800, out_features=batch_size*4)\n",
    "        self.linear2 = Linear(in_features=batch_size*4, out_features=num_classes)\n",
    "    \n",
    "    def forward(self, x):\n",
    "        x = self.pool(relu(self.conv1_bn(self.conv1(x))))\n",
    "        #print(\"conv1\", x.shape)\n",
    "        x = self.pool(relu(self.conv2_bn(self.conv2(x))))\n",
    "        #print(\"conv2\",x.shape)\n",
    "        x = self.pool(relu(self.conv3_bn(self.conv3(x))))\n",
    "        #print(\"conv3\",x.shape)\n",
    "        x = self.pool(relu(self.conv4_bn(self.conv4(x))))\n",
    "        #print(\"conv4\",x.shape)\n",
    "        x = self.drop1(x)\n",
    "        \n",
    "        #print(\"x = x.view(64, -1)\", x.view(64, -1).shape)\n",
    "        \n",
    "        x = x.view(-1, 12800) \n",
    "        #print(\"x.view\",x.shape)\n",
    "        x = relu(self.linear1(x))\n",
    "        #print(\"linear1\",x.shape)\n",
    "        x = self.drop1(x) \n",
    "        #x = softmax(self.linear2(x))\n",
    "        x = self.linear2(x)\n",
    "        return x\n",
    "\n",
    "\n",
    "use_cuda = torch.cuda.is_available()\n",
    "device = torch.device(\"cuda:0\" if use_cuda else \"cpu\")\n",
    "#turn on cpu for troubleshooting as gpu doesnt throw proper error message, runing in cpu shows more specific error message\n",
    "#device = torch.device(\"cpu\") \n",
    "print(device)\n",
    "\n",
    "model_ft = MyNet(batch_size, num_classes).double()\n",
    "print(model_ft)\n",
    "if torch.cuda.device_count() > 1:\n",
    "    print(\"Let's use\", torch.cuda.device_count(), \"GPUs!\")\n",
    "    model_ft = DataParallel(model_ft)\n",
    "\n",
    "model_ft = model_ft.to(device)\n",
    "\n",
    "params_to_update = model_ft.parameters()\n",
    "print(\"Params to learn:\")\n",
    "if feature_extract:\n",
    "    params_to_update = []\n",
    "    for name,param in model_ft.named_parameters():\n",
    "        if param.requires_grad == True:\n",
    "            params_to_update.append(param)\n",
    "            print(\"\\t\",name)\n",
    "else:\n",
    "    for name,param in model_ft.named_parameters():\n",
    "        if param.requires_grad == True:\n",
    "            print(\"\\t\",name)\n",
    "\n",
    "optimizer_ft = torch.optim.SGD(params_to_update, lr=0.001, momentum=0.9)\n",
    "criterion = torch.nn.CrossEntropyLoss()\n",
    "model_ft, hist = train_model(model_ft, dataloaders_dict, criterion, optimizer_ft, num_epochs=num_epochs, is_inception=False)"
   ]
  },
  {
   "cell_type": "code",
   "execution_count": 23,
   "metadata": {},
   "outputs": [
    {
     "name": "stdout",
     "output_type": "stream",
     "text": [
      "Accuracy of test data: 52.33380480905233\n",
      "CPU times: user 104 ms, sys: 44 ms, total: 148 ms\n",
      "Wall time: 143 ms\n"
     ]
    }
   ],
   "source": [
    "%%time\n",
    "correct = 0\n",
    "total = 0\n",
    "with torch.no_grad():\n",
    "    for data in val_loader:\n",
    "        inputs, labels = data[0], data[1]        \n",
    "        inputs, labels = inputs.to(device), labels.to(device)\n",
    "        outputs = model_ft(inputs)\n",
    "        _, predicted = torch.max(outputs.data, 1)\n",
    "        total += labels.size(0)\n",
    "        correct += (predicted == labels).sum().item()\n",
    "\n",
    "print('Accuracy of test data: {0}'.format(100 * correct / total))"
   ]
  },
  {
   "cell_type": "code",
   "execution_count": 24,
   "metadata": {},
   "outputs": [
    {
     "name": "stdout",
     "output_type": "stream",
     "text": [
      "Upload from local model_4.0.model to data/breakfast-img-data/model_4.0.model\n",
      "CPU times: user 84 ms, sys: 88 ms, total: 172 ms\n",
      "Wall time: 893 ms\n"
     ]
    }
   ],
   "source": [
    "%%time\n",
    "model_name = \"model_4.0.model\" #renamed to model_1.2.model\n",
    "torch.save(model_ft.state_dict(), model_name)\n",
    "upload_files([model_name])"
   ]
  },
  {
   "cell_type": "code",
   "execution_count": 25,
   "metadata": {},
   "outputs": [
    {
     "name": "stdout",
     "output_type": "stream",
     "text": [
      "CPU times: user 792 ms, sys: 60 ms, total: 852 ms\n",
      "Wall time: 133 ms\n"
     ]
    },
    {
     "data": {
      "text/plain": [
       "<All keys matched successfully>"
      ]
     },
     "execution_count": 25,
     "metadata": {},
     "output_type": "execute_result"
    }
   ],
   "source": [
    "%%time\n",
    "batch_size = 64\n",
    "num_classes = 47\n",
    "\n",
    "model_name = \"model_4.0.model\"\n",
    "model = MyNet(batch_size, num_classes).double().to(device)\n",
    "model.load_state_dict(torch.load(model_name, map_location=device)) "
   ]
  },
  {
   "cell_type": "code",
   "execution_count": 32,
   "metadata": {},
   "outputs": [
    {
     "name": "stdout",
     "output_type": "stream",
     "text": [
      "CPU times: user 4.81 s, sys: 796 ms, total: 5.6 s\n",
      "Wall time: 1.56 s\n"
     ]
    }
   ],
   "source": [
    "%%time\n",
    "test_df = get_test_data()\n",
    "test_df['feature_sum'] = test_df.apply(lambda x : torch.sum(x['feature'], dim=0).view(1,400), axis = 1)\n",
    "test_df['feature_mean'] = test_df.apply(lambda x : torch.mean(x['feature'], dim=0).view(1,400), axis = 1)\n",
    "test_feature = torch.stack(test_df['feature_mean'].tolist())\n",
    "test_dataset = torch.utils.data.TensorDataset(test_feature)\n",
    "predict_loader = torch.utils.data.DataLoader(test_dataset, batch_size=64, shuffle=False)\n",
    "result = []\n",
    "with torch.no_grad():\n",
    "    for data in predict_loader:\n",
    "        inputs = data[0]\n",
    "        inputs = inputs.to(device) \n",
    "        outputs = model(inputs)\n",
    "        _, predicted = torch.max(outputs.data, 1)\n",
    "        result = np.append(result, predicted.cpu())\n",
    "\n",
    "test_df['label'] = np.transpose(result).astype('int') "
   ]
  },
  {
   "cell_type": "code",
   "execution_count": 33,
   "metadata": {},
   "outputs": [
    {
     "name": "stdout",
     "output_type": "stream",
     "text": [
      "CPU times: user 36 ms, sys: 8 ms, total: 44 ms\n",
      "Wall time: 43.5 ms\n"
     ]
    },
    {
     "data": {
      "text/html": [
       "<div>\n",
       "<style scoped>\n",
       "    .dataframe tbody tr th:only-of-type {\n",
       "        vertical-align: middle;\n",
       "    }\n",
       "\n",
       "    .dataframe tbody tr th {\n",
       "        vertical-align: top;\n",
       "    }\n",
       "\n",
       "    .dataframe thead th {\n",
       "        text-align: right;\n",
       "    }\n",
       "</style>\n",
       "<table border=\"1\" class=\"dataframe\">\n",
       "  <thead>\n",
       "    <tr style=\"text-align: right;\">\n",
       "      <th></th>\n",
       "      <th>ID</th>\n",
       "      <th>Category</th>\n",
       "    </tr>\n",
       "  </thead>\n",
       "  <tbody>\n",
       "    <tr>\n",
       "      <th>0</th>\n",
       "      <td>0</td>\n",
       "      <td>22</td>\n",
       "    </tr>\n",
       "    <tr>\n",
       "      <th>1</th>\n",
       "      <td>1</td>\n",
       "      <td>2</td>\n",
       "    </tr>\n",
       "    <tr>\n",
       "      <th>2</th>\n",
       "      <td>2</td>\n",
       "      <td>2</td>\n",
       "    </tr>\n",
       "    <tr>\n",
       "      <th>3</th>\n",
       "      <td>3</td>\n",
       "      <td>10</td>\n",
       "    </tr>\n",
       "    <tr>\n",
       "      <th>4</th>\n",
       "      <td>4</td>\n",
       "      <td>22</td>\n",
       "    </tr>\n",
       "    <tr>\n",
       "      <th>...</th>\n",
       "      <td>...</td>\n",
       "      <td>...</td>\n",
       "    </tr>\n",
       "    <tr>\n",
       "      <th>1279</th>\n",
       "      <td>1279</td>\n",
       "      <td>44</td>\n",
       "    </tr>\n",
       "    <tr>\n",
       "      <th>1280</th>\n",
       "      <td>1280</td>\n",
       "      <td>14</td>\n",
       "    </tr>\n",
       "    <tr>\n",
       "      <th>1281</th>\n",
       "      <td>1281</td>\n",
       "      <td>15</td>\n",
       "    </tr>\n",
       "    <tr>\n",
       "      <th>1282</th>\n",
       "      <td>1282</td>\n",
       "      <td>2</td>\n",
       "    </tr>\n",
       "    <tr>\n",
       "      <th>1283</th>\n",
       "      <td>1283</td>\n",
       "      <td>6</td>\n",
       "    </tr>\n",
       "  </tbody>\n",
       "</table>\n",
       "<p>1284 rows × 2 columns</p>\n",
       "</div>"
      ],
      "text/plain": [
       "        ID  Category\n",
       "0        0        22\n",
       "1        1         2\n",
       "2        2         2\n",
       "3        3        10\n",
       "4        4        22\n",
       "...    ...       ...\n",
       "1279  1279        44\n",
       "1280  1280        14\n",
       "1281  1281        15\n",
       "1282  1282         2\n",
       "1283  1283         6\n",
       "\n",
       "[1284 rows x 2 columns]"
      ]
     },
     "execution_count": 33,
     "metadata": {},
     "output_type": "execute_result"
    }
   ],
   "source": [
    "%%time\n",
    "test_df['Category'] = test_df.apply(lambda x : x['label'] + 1, axis = 1)\n",
    "test_df = test_df[['ID','Category']]\n",
    "test_df"
   ]
  },
  {
   "cell_type": "code",
   "execution_count": 34,
   "metadata": {},
   "outputs": [
    {
     "data": {
      "text/plain": [
       "array([22,  2, 10, 21, 13, 15,  6, 27, 12, 32, 14, 33, 34, 44, 20, 11, 39,\n",
       "        5, 45, 25, 19, 37, 46, 30, 24, 36, 29, 28, 26,  4,  1, 40, 43, 42,\n",
       "       17,  3, 23,  7])"
      ]
     },
     "execution_count": 34,
     "metadata": {},
     "output_type": "execute_result"
    }
   ],
   "source": [
    "test_df.Category.unique()"
   ]
  },
  {
   "cell_type": "code",
   "execution_count": 35,
   "metadata": {},
   "outputs": [
    {
     "data": {
      "text/plain": [
       "38"
      ]
     },
     "execution_count": 35,
     "metadata": {},
     "output_type": "execute_result"
    }
   ],
   "source": [
    "len(test_df.Category.unique())"
   ]
  },
  {
   "cell_type": "code",
   "execution_count": 37,
   "metadata": {},
   "outputs": [],
   "source": [
    "submission_name = \"submission_4.0_max.csv\"\n",
    "test_df.to_csv(submission_name, index=False)"
   ]
  },
  {
   "cell_type": "code",
   "execution_count": 38,
   "metadata": {},
   "outputs": [
    {
     "name": "stdout",
     "output_type": "stream",
     "text": [
      "Upload from local submission_4.0_max.csv to data/breakfast-img-data/submission_4.0_max.csv\n"
     ]
    }
   ],
   "source": [
    "upload_files([submission_name])"
   ]
  }
 ],
 "metadata": {
  "kernelspec": {
   "display_name": "Python 3",
   "language": "python",
   "name": "python3"
  },
  "language_info": {
   "codemirror_mode": {
    "name": "ipython",
    "version": 3
   },
   "file_extension": ".py",
   "mimetype": "text/x-python",
   "name": "python",
   "nbconvert_exporter": "python",
   "pygments_lexer": "ipython3",
   "version": "3.7.6"
  }
 },
 "nbformat": 4,
 "nbformat_minor": 4
}
