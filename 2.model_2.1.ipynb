{
 "cells": [
  {
   "cell_type": "code",
   "execution_count": 1,
   "metadata": {},
   "outputs": [
    {
     "name": "stdout",
     "output_type": "stream",
     "text": [
      "cuda:0\n",
      "_CudaDeviceProperties(name='Tesla P100-PCIE-16GB', major=6, minor=0, total_memory=16280MB, multi_processor_count=56)\n",
      "CPU times: user 432 ms, sys: 312 ms, total: 744 ms\n",
      "Wall time: 805 ms\n"
     ]
    }
   ],
   "source": [
    "%%time\n",
    "\n",
    "import joblib, time, os, copy, datetime\n",
    "import numpy as np\n",
    "import pandas as pd\n",
    "import matplotlib.pyplot as plt\n",
    "\n",
    "import torch\n",
    "import torchvision\n",
    "\n",
    "import torch.cuda as cutorch\n",
    "\n",
    "#enable it when running in google cloud, to upload/download file from/to VM to/from google cloud bucket\n",
    "from google.cloud import storage\n",
    "\n",
    "use_cuda = torch.cuda.is_available()\n",
    "device = torch.device(\"cuda:0\" if use_cuda else \"cpu\")\n",
    "#turn on cpu for troubleshooting as gpu doesnt throw proper error message, runing in cpu shows more specific error message\n",
    "#device = torch.device(\"cpu\") \n",
    "print(device)\n",
    "for i in range(cutorch.device_count()):\n",
    "    print(torch.cuda.get_device_properties(\"cuda:\" + str(i)))\n",
    "\n",
    "bucket_root_path = \"weicheng30417\"\n",
    "project_data_folder = \"data/breakfast-img-data/\"\n",
    "torch.manual_seed(0)"
   ]
  },
  {
   "cell_type": "code",
   "execution_count": 2,
   "metadata": {},
   "outputs": [],
   "source": [
    "def download_all_data_from_bucket():\n",
    "    storage_client = storage.Client()\n",
    "    bucket = storage_client.get_bucket(bucket_root_path)\n",
    "    file_id = project_data_folder\n",
    "    blobs=bucket.list_blobs(prefix=file_id)\n",
    "    for blob in blobs:        \n",
    "        file_names = blob.name.split(\"/\")\n",
    "        if len(file_names) == 3:\n",
    "            if file_names[2] != \"\":\n",
    "                file_name = file_names[2]            \n",
    "                blob.download_to_filename(file_name)\n",
    "                print(\"Download from {0} to local {1}\".format(blob.name, file_name))\n",
    "                \n",
    "\n",
    "def download_file_from_bucket(file):\n",
    "    storage_client = storage.Client()\n",
    "    bucket = storage_client.get_bucket(bucket_root_path)\n",
    "    butcketFile = project_data_folder + file\n",
    "    blob = bucket.blob(butcketFile)\n",
    "    blob.download_to_filename(file)\n",
    "    print(\"Download from {0} to local {1}\".format(butcketFile, file))\n",
    "    \n",
    "def upload_all_files():    \n",
    "    storage_client = storage.Client()\n",
    "    bucket = storage_client.get_bucket(bucket_root_path)\n",
    "    \n",
    "    directory = os.getcwd()\n",
    "    for file in os.listdir(directory):\n",
    "        filename = os.fsdecode(file)\n",
    "        if filename.endswith(\".csv\") or filename.endswith(\".ipynb\") or filename.endswith(\".model\"):             \n",
    "            butcketFile = project_data_folder + file\n",
    "            blob = bucket.blob(butcketFile)\n",
    "            blob.upload_from_filename(filename)\n",
    "            print(\"Upload from local {0} to {1}\".format(filename, butcketFile))\n",
    "            \n",
    "def upload_files(files):\n",
    "    storage_client = storage.Client()\n",
    "    bucket = storage_client.get_bucket(bucket_root_path)\n",
    "    for file in files:\n",
    "        butcketFile = project_data_folder + file\n",
    "        blob = bucket.blob(butcketFile)\n",
    "        blob.upload_from_filename(file)\n",
    "        print(\"Upload from local {0} to {1}\".format(file, butcketFile))\n",
    "\n",
    "def flatten(ls):\n",
    "     for item in ls:\n",
    "            for child in list(item):\n",
    "                yield child\n",
    "\n",
    "def get_segment_positions(x):\n",
    "    ps = x.segment.split()\n",
    "    ls = []\n",
    "    for i in range(len(ps)-1):\n",
    "        if i == 0:\n",
    "            ls.append([int(ps[i]), int(ps[i+1])])\n",
    "        else:\n",
    "            ls.append([int(ps[i])+1, int(ps[i+1])])        \n",
    "    return ls\n",
    "\n",
    "def get_segment_features(x):\n",
    "    ls = []\n",
    "    for rg in x.positions:\n",
    "        ls.append(x.feature[rg[0]:rg[1]])            \n",
    "    return ls\n",
    "\n",
    "def splitDataFrameList(df,target_column):\n",
    "    def splitListToRows(row,row_accumulator,target_column):\n",
    "        split_row = row[target_column]\n",
    "        for s in split_row:\n",
    "            new_row = row.to_dict()\n",
    "            new_row[target_column] = s\n",
    "            row_accumulator.append(new_row)\n",
    "    new_rows = []\n",
    "    df.apply(splitListToRows,axis=1,args = (new_rows,target_column))\n",
    "    new_df = pd.DataFrame(new_rows)\n",
    "    return new_df\n",
    "                \n",
    "def get_train_data():\n",
    "    training_segment = pd.read_csv('training_segment.txt', header=None, names = ['segment'])\n",
    "    training_segment['feature'] = joblib.load('train_feature.joblib')\n",
    "    training_segment['positions'] = training_segment.apply(lambda x: get_segment_positions(x), axis=1)\n",
    "    training_segment['feature'] = training_segment.apply(lambda x: get_segment_features(x), axis=1)\n",
    "    training_segment = splitDataFrameList(training_segment, 'feature')\n",
    "    training_segment['label'] = list(flatten(joblib.load('train_label.joblib')))\n",
    "    training_segment = training_segment.drop(['segment','positions'], axis = 1)\n",
    "    return training_segment\n",
    "\n",
    "def get_test_data():\n",
    "    test_segment = pd.read_csv('test_segment.txt', header=None, names = ['segment'])\n",
    "    test_segment['feature'] = joblib.load('test_feature.joblib')\n",
    "    test_segment['positions'] = test_segment.apply(lambda x: get_segment_positions(x), axis=1)\n",
    "    test_segment['feature'] = test_segment.apply(lambda x: get_segment_features(x), axis=1)\n",
    "    test_segment = splitDataFrameList(test_segment, 'feature')\n",
    "    test_segment['ID'] = test_segment.index\n",
    "    test_segment = test_segment.drop(['segment','positions'], axis = 1)\n",
    "    return test_segment\n",
    "\n",
    "def set_parameter_requires_grad(model, feature_extracting):\n",
    "    if feature_extracting:\n",
    "        for param in model.parameters():\n",
    "            param.requires_grad = False\n",
    "\n",
    "def train_model(model, dataloaders, criterion, optimizer, num_epochs=25, is_inception=False):\n",
    "    since = time.time()\n",
    "\n",
    "    val_acc_history = []\n",
    "\n",
    "    best_model_wts = copy.deepcopy(model.state_dict())\n",
    "    best_acc = 0.0\n",
    "    \n",
    "    for epoch in range(num_epochs):\n",
    "        ms = time.time()\n",
    "        print('Epoch {}/{}'.format(epoch, num_epochs - 1))\n",
    "        print('-' * 10)\n",
    "\n",
    "        # Each epoch has a training and validation phase\n",
    "        for phase in ['train', 'val']:\n",
    "            if phase == 'train':\n",
    "                model.train()\n",
    "            else:\n",
    "                model.eval()\n",
    "\n",
    "            running_loss = 0.0\n",
    "            running_corrects = 0\n",
    "\n",
    "            for inputs, labels in dataloaders[phase]:\n",
    "                inputs = inputs.to(device)\n",
    "                labels = labels.to(device)\n",
    "                optimizer.zero_grad()\n",
    "                with torch.set_grad_enabled(phase == 'train'):\n",
    "                    if is_inception and phase == 'train':\n",
    "                        outputs, aux_outputs = model(inputs)\n",
    "                        loss1 = criterion(outputs, labels)\n",
    "                        loss2 = criterion(aux_outputs, labels)\n",
    "                        loss = loss1 + 0.4*loss2\n",
    "                    else:\n",
    "                        outputs = model(inputs)\n",
    "                        loss = criterion(outputs, labels)\n",
    "\n",
    "                    _, preds = torch.max(outputs, 1)\n",
    "\n",
    "                    if phase == 'train':\n",
    "                        loss.backward()\n",
    "                        optimizer.step()\n",
    "\n",
    "                running_loss += loss.item() * inputs.size(0)\n",
    "                running_corrects += torch.sum(preds == labels.data)\n",
    "\n",
    "            epoch_loss = running_loss / len(dataloaders[phase].dataset)\n",
    "            epoch_acc = running_corrects.double() / len(dataloaders[phase].dataset)           \n",
    "\n",
    "            if phase == 'val' and epoch_acc > best_acc:\n",
    "                best_acc = epoch_acc\n",
    "                best_model_wts = copy.deepcopy(model.state_dict())\n",
    "            if phase == 'val':\n",
    "                val_acc_history.append(epoch_acc)            \n",
    "            print('{} Loss: {:.4f}, {} Acc: {:.4f}'.format(phase, epoch_loss, phase, epoch_acc))\n",
    "        \n",
    "        time_taken = str(datetime.timedelta(seconds=time.time() - ms))\n",
    "        print('time taken: {}'.format(time_taken))\n",
    "            \n",
    "\n",
    "    time_elapsed = time.time() - since\n",
    "    print('Training complete in {:.0f}m {:.0f}s'.format(time_elapsed // 60, time_elapsed % 60))\n",
    "    print('Best val Acc: {:4f}'.format(best_acc))\n",
    "\n",
    "    model.load_state_dict(best_model_wts)\n",
    "    return model, val_acc_history\n",
    "\n",
    "def extract_or_pad(x):    \n",
    "    target = torch.zeros([400, 400], dtype=torch.float64)\n",
    "    w = x.shape[0]\n",
    "    \n",
    "    if w <= 400:       \n",
    "        no_tile = (400 // w) + 1        \n",
    "        x = torch.cat(no_tile*[x])\n",
    "        \n",
    "    target = x[:400, :400]\n",
    "    return target.view(1, 400, 400)"
   ]
  },
  {
   "cell_type": "code",
   "execution_count": 3,
   "metadata": {},
   "outputs": [
    {
     "name": "stdout",
     "output_type": "stream",
     "text": [
      "<class 'pandas.core.frame.DataFrame'>\n",
      "RangeIndex: 7075 entries, 0 to 7074\n",
      "Data columns (total 2 columns):\n",
      " #   Column   Non-Null Count  Dtype \n",
      "---  ------   --------------  ----- \n",
      " 0   feature  7075 non-null   object\n",
      " 1   label    7075 non-null   int64 \n",
      "dtypes: int64(1), object(1)\n",
      "memory usage: 110.7+ KB\n",
      "None\n",
      "torch.Size([260, 400])\n",
      "tensor([[-16.2783,   4.9215,  -3.6278,  ...,  -6.3865,  -1.0839,  -6.3627],\n",
      "        [-19.2205,   6.1413,  -4.5396,  ...,  -5.2037,  -2.6973,  -4.9110],\n",
      "        [-19.7272,   7.0195,  -4.0093,  ...,  -4.2315,  -7.2786,  -6.9802],\n",
      "        ...,\n",
      "        [-16.5469,   6.7402,  -2.2102,  ...,  -6.2332,  -6.7890,  -5.9929],\n",
      "        [-18.1927,   5.1798,  -2.2626,  ...,  -5.0009,  -4.8182,  -4.7292],\n",
      "        [-19.1877,   5.8449,  -4.2045,  ...,  -4.2093,  -6.4421,  -7.3169]],\n",
      "       dtype=torch.float64)\n",
      "CPU times: user 2.31 s, sys: 9.7 s, total: 12 s\n",
      "Wall time: 12 s\n"
     ]
    }
   ],
   "source": [
    "%%time\n",
    "train_df = get_train_data()\n",
    "print(train_df.info())\n",
    "print(train_df.feature[0].shape)\n",
    "print(train_df.feature[1])"
   ]
  },
  {
   "cell_type": "code",
   "execution_count": 4,
   "metadata": {},
   "outputs": [
    {
     "name": "stdout",
     "output_type": "stream",
     "text": [
      "<class 'pandas.core.frame.DataFrame'>\n",
      "Int64Index: 7075 entries, 3803 to 4021\n",
      "Data columns (total 2 columns):\n",
      " #   Column   Non-Null Count  Dtype \n",
      "---  ------   --------------  ----- \n",
      " 0   feature  7075 non-null   object\n",
      " 1   label    7075 non-null   int64 \n",
      "dtypes: int64(1), object(1)\n",
      "memory usage: 165.8+ KB\n",
      "None\n",
      "torch.Size([1, 400, 400])\n",
      "tensor([[[-16.2783,   4.9215,  -3.6278,  ...,  -6.3865,  -1.0839,  -6.3627],\n",
      "         [-19.2205,   6.1413,  -4.5396,  ...,  -5.2037,  -2.6973,  -4.9110],\n",
      "         [-19.7272,   7.0195,  -4.0093,  ...,  -4.2315,  -7.2786,  -6.9802],\n",
      "         ...,\n",
      "         [-14.9790,   2.9633,  -1.4342,  ...,  -4.2220,  -7.2918, -10.0969],\n",
      "         [-16.3594,   4.0857,  -1.0715,  ...,  -5.6668,  -9.0479,  -9.3844],\n",
      "         [-15.0685,   5.8967,  -1.7798,  ...,  -5.0414,  -8.3543,  -8.0798]]],\n",
      "       dtype=torch.float64)\n",
      "CPU times: user 24.1 s, sys: 4.12 s, total: 28.3 s\n",
      "Wall time: 5.74 s\n"
     ]
    }
   ],
   "source": [
    "%%time\n",
    "train_data = train_df.sample(frac=1.0)\n",
    "train_data['label'] = train_data.apply(lambda x : x[\"label\"] - 1, axis = 1)\n",
    "train_data['feature'] = train_data.apply(lambda x : extract_or_pad(x.feature), axis = 1)\n",
    "print(train_data.info())\n",
    "print(train_data.feature[1].shape)\n",
    "print(train_data.feature[1])"
   ]
  },
  {
   "cell_type": "code",
   "execution_count": 5,
   "metadata": {},
   "outputs": [
    {
     "name": "stdout",
     "output_type": "stream",
     "text": [
      "len(train_loader.dataset) =  5660\n",
      "len(val_loader.dataset) =  707\n",
      "len(test_loader.dataset) =  708\n",
      "CPU times: user 2.22 s, sys: 3.83 s, total: 6.05 s\n",
      "Wall time: 5.29 s\n"
     ]
    }
   ],
   "source": [
    "%%time\n",
    "num_classes = 47\n",
    "batch_size = 4\n",
    "\n",
    "train_feature = torch.stack(train_data['feature'].tolist())\n",
    "train_label = torch.tensor(train_data['label'].values.astype(np.long))\n",
    "\n",
    "train_dataset = torch.utils.data.TensorDataset(train_feature, train_label)\n",
    "\n",
    "train_size = int(0.8 * len(train_data))\n",
    "val_size = int(0.1 * len(train_data))\n",
    "test_size = len(train_data) - train_size - val_size\n",
    "train_dataset, val_dataset, test_dataset = torch.utils.data.random_split(train_dataset, [train_size, val_size, test_size])\n",
    "\n",
    "train_loader = torch.utils.data.DataLoader(train_dataset, batch_size=batch_size)\n",
    "val_loader = torch.utils.data.DataLoader(val_dataset, batch_size=batch_size)\n",
    "test_loader = torch.utils.data.DataLoader(test_dataset, batch_size=batch_size)\n",
    "\n",
    "dataloaders_dict = {'train':train_loader, 'val':val_loader}\n",
    "print(\"len(train_loader.dataset) = \", len(train_loader.dataset))\n",
    "print(\"len(val_loader.dataset) = \", len(val_loader.dataset))\n",
    "print(\"len(test_loader.dataset) = \", len(test_loader.dataset))"
   ]
  },
  {
   "cell_type": "code",
   "execution_count": 6,
   "metadata": {},
   "outputs": [],
   "source": [
    "from torch.nn import *\n",
    "from torch.nn.functional import *\n",
    "\n",
    "class MyNet(Module):\n",
    "    def __init__(self, batch_size, num_classes):\n",
    "        super(MyNet, self).__init__()\n",
    "        self.batch_size = batch_size\n",
    "        self.num_classes = num_classes        \n",
    "        \n",
    "        self.conv1 = Conv2d(in_channels=1, out_channels=batch_size, kernel_size=3, padding=1)\n",
    "        self.conv1_bn = BatchNorm2d(num_features=batch_size)\n",
    "        \n",
    "        i=0\n",
    "        self.conv2 = Conv2d(in_channels=batch_size*pow(2,i), out_channels=batch_size*pow(2,i+1), kernel_size=3, padding=1)\n",
    "        self.conv2_bn = BatchNorm2d(num_features=batch_size*pow(2,i+1))\n",
    "        i = i + 1\n",
    "        \n",
    "        self.conv3 = Conv2d(in_channels=batch_size*pow(2,i), out_channels=batch_size*pow(2,i+1), kernel_size=3, padding=1)\n",
    "        self.conv3_bn = BatchNorm2d(num_features=batch_size*pow(2,i+1))\n",
    "        i = i + 1\n",
    "        \n",
    "        self.conv4 = Conv2d(in_channels=batch_size*pow(2,i), out_channels=batch_size*pow(2,i+1), kernel_size=3, padding=1)\n",
    "        self.conv4_bn = BatchNorm2d(num_features=batch_size*pow(2,i+1))\n",
    "        i = i + 1      \n",
    "        \n",
    "        self.pool = MaxPool2d(2, 2)\n",
    "        self.drop1 = Dropout(0.5)\n",
    "        self.linear1 = Linear(in_features=320000, out_features=1024)\n",
    "        self.linear2 = Linear(in_features=1024, out_features=512)\n",
    "        self.linear3 = Linear(in_features=512, out_features=num_classes)\n",
    "    \n",
    "    def forward(self, x):\n",
    "        x = relu(self.conv1_bn(self.conv1(x)))\n",
    "        x = relu(self.conv2_bn(self.conv2(x)))\n",
    "        x = self.pool(x)\n",
    "        x = self.drop1(x)\n",
    "        \n",
    "        x = relu(self.conv3_bn(self.conv3(x)))\n",
    "        x = relu(self.conv4_bn(self.conv4(x)))\n",
    "        x = self.pool(x)\n",
    "        x = self.drop1(x)\n",
    "        \n",
    "        #print(\"x.view(self.batch_size, -1)\", x.view(self.batch_size, -1).shape)        \n",
    "        x = x.view(-1, 320000)\n",
    "        \n",
    "        x = relu(self.linear1(x))\n",
    "        x = self.drop1(x)\n",
    "        \n",
    "        x = relu(self.linear2(x))\n",
    "        x = self.drop1(x) \n",
    "        \n",
    "        #x = softmax(self.linear3(x))\n",
    "        x = self.linear3(x)\n",
    "        return x"
   ]
  },
  {
   "cell_type": "code",
   "execution_count": 7,
   "metadata": {},
   "outputs": [
    {
     "name": "stdout",
     "output_type": "stream",
     "text": [
      "MyNet(\n",
      "  (conv1): Conv2d(1, 4, kernel_size=(3, 3), stride=(1, 1), padding=(1, 1))\n",
      "  (conv1_bn): BatchNorm2d(4, eps=1e-05, momentum=0.1, affine=True, track_running_stats=True)\n",
      "  (conv2): Conv2d(4, 8, kernel_size=(3, 3), stride=(1, 1), padding=(1, 1))\n",
      "  (conv2_bn): BatchNorm2d(8, eps=1e-05, momentum=0.1, affine=True, track_running_stats=True)\n",
      "  (conv3): Conv2d(8, 16, kernel_size=(3, 3), stride=(1, 1), padding=(1, 1))\n",
      "  (conv3_bn): BatchNorm2d(16, eps=1e-05, momentum=0.1, affine=True, track_running_stats=True)\n",
      "  (conv4): Conv2d(16, 32, kernel_size=(3, 3), stride=(1, 1), padding=(1, 1))\n",
      "  (conv4_bn): BatchNorm2d(32, eps=1e-05, momentum=0.1, affine=True, track_running_stats=True)\n",
      "  (pool): MaxPool2d(kernel_size=2, stride=2, padding=0, dilation=1, ceil_mode=False)\n",
      "  (drop1): Dropout(p=0.5, inplace=False)\n",
      "  (linear1): Linear(in_features=320000, out_features=1024, bias=True)\n",
      "  (linear2): Linear(in_features=1024, out_features=512, bias=True)\n",
      "  (linear3): Linear(in_features=512, out_features=47, bias=True)\n",
      ")\n",
      "Params to learn:\n",
      "\t conv1.weight\n",
      "\t conv1.bias\n",
      "\t conv1_bn.weight\n",
      "\t conv1_bn.bias\n",
      "\t conv2.weight\n",
      "\t conv2.bias\n",
      "\t conv2_bn.weight\n",
      "\t conv2_bn.bias\n",
      "\t conv3.weight\n",
      "\t conv3.bias\n",
      "\t conv3_bn.weight\n",
      "\t conv3_bn.bias\n",
      "\t conv4.weight\n",
      "\t conv4.bias\n",
      "\t conv4_bn.weight\n",
      "\t conv4_bn.bias\n",
      "\t linear1.weight\n",
      "\t linear1.bias\n",
      "\t linear2.weight\n",
      "\t linear2.bias\n",
      "\t linear3.weight\n",
      "\t linear3.bias\n",
      "Epoch 0/4\n",
      "----------\n",
      "train Loss: 3.8948, train Acc: 0.0758\n",
      "val Loss: 3.6334, val Acc: 0.0877\n",
      "time taken: 0:03:50.468419\n",
      "Epoch 1/4\n",
      "----------\n",
      "train Loss: 3.6046, train Acc: 0.0860\n",
      "val Loss: 3.5448, val Acc: 0.0976\n",
      "time taken: 0:03:50.387613\n",
      "Epoch 2/4\n",
      "----------\n",
      "train Loss: 3.5499, train Acc: 0.0855\n",
      "val Loss: 3.4987, val Acc: 0.1047\n",
      "time taken: 0:03:50.662645\n",
      "Epoch 3/4\n",
      "----------\n",
      "train Loss: 3.5161, train Acc: 0.0857\n",
      "val Loss: 3.4564, val Acc: 0.1018\n",
      "time taken: 0:03:50.777900\n",
      "Epoch 4/4\n",
      "----------\n",
      "train Loss: 3.4901, train Acc: 0.0906\n",
      "val Loss: 3.4211, val Acc: 0.1485\n",
      "time taken: 0:03:50.779596\n",
      "Training complete in 19m 13s\n",
      "Best val Acc: 0.148515\n",
      "CPU times: user 14min 27s, sys: 4min 54s, total: 19min 21s\n",
      "Wall time: 19min 18s\n"
     ]
    }
   ],
   "source": [
    "%%time\n",
    "num_epochs = 5\n",
    "feature_extract = True\n",
    "\n",
    "model_ft = MyNet(batch_size, num_classes).double()\n",
    "print(model_ft)\n",
    "model_ft = model_ft.to(device)\n",
    "\n",
    "params_to_update = model_ft.parameters()\n",
    "print(\"Params to learn:\")\n",
    "if feature_extract:\n",
    "    params_to_update = []\n",
    "    for name,param in model_ft.named_parameters():\n",
    "        if param.requires_grad == True:\n",
    "            params_to_update.append(param)\n",
    "            print(\"\\t\",name)\n",
    "else:\n",
    "    for name,param in model_ft.named_parameters():\n",
    "        if param.requires_grad == True:\n",
    "            print(\"\\t\",name)\n",
    "\n",
    "optimizer_ft = torch.optim.SGD(params_to_update, lr=0.001, momentum=0.9)  \n",
    "criterion = torch.nn.CrossEntropyLoss()\n",
    "model_ft, hist = train_model(model_ft, dataloaders_dict, criterion, optimizer_ft, num_epochs=num_epochs, is_inception=False)"
   ]
  },
  {
   "cell_type": "code",
   "execution_count": 8,
   "metadata": {},
   "outputs": [
    {
     "name": "stdout",
     "output_type": "stream",
     "text": [
      "Accuracy of test data: 13.27683615819209\n",
      "CPU times: user 2.18 s, sys: 628 ms, total: 2.81 s\n",
      "Wall time: 2.81 s\n"
     ]
    }
   ],
   "source": [
    "%%time\n",
    "correct = 0\n",
    "total = 0\n",
    "with torch.no_grad():\n",
    "    for data in test_loader:\n",
    "        inputs, labels = data[0].to(device), data[1].to(device)\n",
    "        outputs = model_ft(inputs)\n",
    "        _, predicted = torch.max(outputs.data, 1)\n",
    "        total += labels.size(0)\n",
    "        correct += (predicted == labels).sum().item()\n",
    "\n",
    "print('Accuracy of test data: {0}'.format(100 * correct / total))"
   ]
  },
  {
   "cell_type": "code",
   "execution_count": 9,
   "metadata": {},
   "outputs": [
    {
     "name": "stdout",
     "output_type": "stream",
     "text": [
      "Upload from local model_2.1.model to data/breakfast-img-data/model_2.1.model\n",
      "CPU times: user 2.9 s, sys: 5.58 s, total: 8.48 s\n",
      "Wall time: 39.7 s\n"
     ]
    }
   ],
   "source": [
    "%%time\n",
    "model_name = \"model_2.1.model\" \n",
    "torch.save(model_ft.state_dict(), model_name)\n",
    "upload_files([model_name])"
   ]
  },
  {
   "cell_type": "code",
   "execution_count": 10,
   "metadata": {},
   "outputs": [
    {
     "name": "stdout",
     "output_type": "stream",
     "text": [
      "CPU times: user 5.24 s, sys: 3.61 s, total: 8.86 s\n",
      "Wall time: 5.59 s\n"
     ]
    },
    {
     "data": {
      "text/plain": [
       "<All keys matched successfully>"
      ]
     },
     "execution_count": 10,
     "metadata": {},
     "output_type": "execute_result"
    }
   ],
   "source": [
    "%%time\n",
    "batch_size = 4\n",
    "num_classes = 47\n",
    "\n",
    "model_name = \"model_2.1.model\"\n",
    "model = MyNet(batch_size, num_classes).double().to(device)\n",
    "model.load_state_dict(torch.load(model_name, map_location=device)) "
   ]
  },
  {
   "cell_type": "code",
   "execution_count": 11,
   "metadata": {},
   "outputs": [
    {
     "name": "stdout",
     "output_type": "stream",
     "text": [
      "<class 'pandas.core.frame.DataFrame'>\n",
      "RangeIndex: 1284 entries, 0 to 1283\n",
      "Data columns (total 2 columns):\n",
      " #   Column   Non-Null Count  Dtype \n",
      "---  ------   --------------  ----- \n",
      " 0   feature  1284 non-null   object\n",
      " 1   ID       1284 non-null   int64 \n",
      "dtypes: int64(1), object(1)\n",
      "memory usage: 20.2+ KB\n",
      "None\n",
      "CPU times: user 396 ms, sys: 1.46 s, total: 1.85 s\n",
      "Wall time: 1.85 s\n"
     ]
    }
   ],
   "source": [
    "%%time\n",
    "test_df = get_test_data()\n",
    "print(test_df.info())"
   ]
  },
  {
   "cell_type": "code",
   "execution_count": 12,
   "metadata": {},
   "outputs": [
    {
     "name": "stdout",
     "output_type": "stream",
     "text": [
      "<class 'pandas.core.frame.DataFrame'>\n",
      "Int64Index: 1284 entries, 426 to 110\n",
      "Data columns (total 2 columns):\n",
      " #   Column   Non-Null Count  Dtype \n",
      "---  ------   --------------  ----- \n",
      " 0   feature  1284 non-null   object\n",
      " 1   ID       1284 non-null   int64 \n",
      "dtypes: int64(1), object(1)\n",
      "memory usage: 30.1+ KB\n",
      "None\n",
      "CPU times: user 9.3 s, sys: 2.58 s, total: 11.9 s\n",
      "Wall time: 9.32 s\n"
     ]
    }
   ],
   "source": [
    "%%time\n",
    "test_data = test_df.sample(frac = 1.0)\n",
    "test_data['feature'] = test_data.apply(lambda x : extract_or_pad(x.feature), axis = 1)\n",
    "print(test_data.info())\n",
    "\n",
    "test_feature = torch.stack(test_data['feature'].tolist())\n",
    "test_dataset = torch.utils.data.TensorDataset(test_feature)\n",
    "predict_loader = torch.utils.data.DataLoader(test_dataset, batch_size=batch_size, shuffle=False)\n",
    "result = []\n",
    "with torch.no_grad():\n",
    "    for data in predict_loader:\n",
    "        inputs = data[0].to(device)\n",
    "        outputs = model(inputs)\n",
    "        _, predicted = torch.max(outputs.data, 1)\n",
    "        result = np.append(result, predicted.cpu())\n"
   ]
  },
  {
   "cell_type": "code",
   "execution_count": 13,
   "metadata": {},
   "outputs": [
    {
     "name": "stdout",
     "output_type": "stream",
     "text": [
      "CPU times: user 132 ms, sys: 0 ns, total: 132 ms\n",
      "Wall time: 130 ms\n"
     ]
    },
    {
     "data": {
      "text/html": [
       "<div>\n",
       "<style scoped>\n",
       "    .dataframe tbody tr th:only-of-type {\n",
       "        vertical-align: middle;\n",
       "    }\n",
       "\n",
       "    .dataframe tbody tr th {\n",
       "        vertical-align: top;\n",
       "    }\n",
       "\n",
       "    .dataframe thead th {\n",
       "        text-align: right;\n",
       "    }\n",
       "</style>\n",
       "<table border=\"1\" class=\"dataframe\">\n",
       "  <thead>\n",
       "    <tr style=\"text-align: right;\">\n",
       "      <th></th>\n",
       "      <th>ID</th>\n",
       "      <th>Category</th>\n",
       "    </tr>\n",
       "  </thead>\n",
       "  <tbody>\n",
       "    <tr>\n",
       "      <th>0</th>\n",
       "      <td>0</td>\n",
       "      <td>2</td>\n",
       "    </tr>\n",
       "    <tr>\n",
       "      <th>1</th>\n",
       "      <td>1</td>\n",
       "      <td>2</td>\n",
       "    </tr>\n",
       "    <tr>\n",
       "      <th>2</th>\n",
       "      <td>2</td>\n",
       "      <td>2</td>\n",
       "    </tr>\n",
       "    <tr>\n",
       "      <th>3</th>\n",
       "      <td>3</td>\n",
       "      <td>2</td>\n",
       "    </tr>\n",
       "    <tr>\n",
       "      <th>4</th>\n",
       "      <td>4</td>\n",
       "      <td>24</td>\n",
       "    </tr>\n",
       "    <tr>\n",
       "      <th>...</th>\n",
       "      <td>...</td>\n",
       "      <td>...</td>\n",
       "    </tr>\n",
       "    <tr>\n",
       "      <th>1279</th>\n",
       "      <td>1279</td>\n",
       "      <td>32</td>\n",
       "    </tr>\n",
       "    <tr>\n",
       "      <th>1280</th>\n",
       "      <td>1280</td>\n",
       "      <td>2</td>\n",
       "    </tr>\n",
       "    <tr>\n",
       "      <th>1281</th>\n",
       "      <td>1281</td>\n",
       "      <td>32</td>\n",
       "    </tr>\n",
       "    <tr>\n",
       "      <th>1282</th>\n",
       "      <td>1282</td>\n",
       "      <td>2</td>\n",
       "    </tr>\n",
       "    <tr>\n",
       "      <th>1283</th>\n",
       "      <td>1283</td>\n",
       "      <td>2</td>\n",
       "    </tr>\n",
       "  </tbody>\n",
       "</table>\n",
       "<p>1284 rows × 2 columns</p>\n",
       "</div>"
      ],
      "text/plain": [
       "        ID  Category\n",
       "0        0         2\n",
       "1        1         2\n",
       "2        2         2\n",
       "3        3         2\n",
       "4        4        24\n",
       "...    ...       ...\n",
       "1279  1279        32\n",
       "1280  1280         2\n",
       "1281  1281        32\n",
       "1282  1282         2\n",
       "1283  1283         2\n",
       "\n",
       "[1284 rows x 2 columns]"
      ]
     },
     "execution_count": 13,
     "metadata": {},
     "output_type": "execute_result"
    }
   ],
   "source": [
    "%%time\n",
    "test_data['label'] = np.transpose(result).astype('int') \n",
    "test_data_group = test_data.groupby('ID')['label'].apply(list).reset_index(name='labels')\n",
    "test_data_group['Category'] = test_data_group.apply(lambda x : np.argmax(np.bincount(x.labels)) + 1, axis = 1)\n",
    "test_data_group = test_data_group[['ID','Category']]\n",
    "test_data_group"
   ]
  },
  {
   "cell_type": "code",
   "execution_count": 14,
   "metadata": {},
   "outputs": [
    {
     "data": {
      "text/plain": [
       "8"
      ]
     },
     "execution_count": 14,
     "metadata": {},
     "output_type": "execute_result"
    }
   ],
   "source": [
    "len(test_data_group.Category.unique())"
   ]
  },
  {
   "cell_type": "code",
   "execution_count": 15,
   "metadata": {},
   "outputs": [],
   "source": [
    "submission_name = \"submission_2.1_max.csv\"\n",
    "test_data_group.to_csv(submission_name, index=False)"
   ]
  },
  {
   "cell_type": "code",
   "execution_count": 16,
   "metadata": {},
   "outputs": [
    {
     "name": "stdout",
     "output_type": "stream",
     "text": [
      "Upload from local submission_2.1_max.csv to data/breakfast-img-data/submission_2.1_max.csv\n"
     ]
    }
   ],
   "source": [
    "upload_files([submission_name])"
   ]
  },
  {
   "cell_type": "code",
   "execution_count": 17,
   "metadata": {},
   "outputs": [
    {
     "name": "stdout",
     "output_type": "stream",
     "text": [
      "<class 'pandas.core.frame.DataFrame'>\n",
      "RangeIndex: 1284 entries, 0 to 1283\n",
      "Data columns (total 2 columns):\n",
      " #   Column   Non-Null Count  Dtype \n",
      "---  ------   --------------  ----- \n",
      " 0   feature  1284 non-null   object\n",
      " 1   ID       1284 non-null   int64 \n",
      "dtypes: int64(1), object(1)\n",
      "memory usage: 20.2+ KB\n",
      "None\n",
      "CPU times: user 372 ms, sys: 1.5 s, total: 1.88 s\n",
      "Wall time: 1.88 s\n"
     ]
    }
   ],
   "source": [
    "%%time\n",
    "test_df = get_test_data()\n",
    "print(test_df.info())"
   ]
  },
  {
   "cell_type": "code",
   "execution_count": 18,
   "metadata": {},
   "outputs": [
    {
     "name": "stdout",
     "output_type": "stream",
     "text": [
      "<class 'pandas.core.frame.DataFrame'>\n",
      "Int64Index: 1284 entries, 330 to 1123\n",
      "Data columns (total 2 columns):\n",
      " #   Column   Non-Null Count  Dtype \n",
      "---  ------   --------------  ----- \n",
      " 0   feature  1284 non-null   object\n",
      " 1   ID       1284 non-null   int64 \n",
      "dtypes: int64(1), object(1)\n",
      "memory usage: 30.1+ KB\n",
      "None\n"
     ]
    },
    {
     "name": "stderr",
     "output_type": "stream",
     "text": [
      "/opt/conda/lib/python3.7/site-packages/ipykernel_launcher.py:14: UserWarning: Implicit dimension choice for softmax has been deprecated. Change the call to include dim=X as an argument.\n",
      "  \n"
     ]
    },
    {
     "name": "stdout",
     "output_type": "stream",
     "text": [
      "CPU times: user 9.26 s, sys: 2.76 s, total: 12 s\n",
      "Wall time: 9.5 s\n"
     ]
    }
   ],
   "source": [
    "%%time\n",
    "test_data = test_df.sample(frac = 1.0)\n",
    "test_data['feature'] = test_data.apply(lambda x : extract_or_pad(x.feature), axis = 1)\n",
    "print(test_data.info())\n",
    "\n",
    "test_feature = torch.stack(test_data['feature'].tolist())\n",
    "test_dataset = torch.utils.data.TensorDataset(test_feature)\n",
    "predict_loader = torch.utils.data.DataLoader(test_dataset, batch_size=batch_size)\n",
    "result = []\n",
    "with torch.no_grad():\n",
    "    for data in predict_loader:\n",
    "        inputs = data[0]            \n",
    "        inputs = inputs.to(device)    \n",
    "        outputs = model(inputs)  \n",
    "        prop = torch.nn.functional.softmax(outputs).cpu().tolist()\n",
    "        result = np.append(result, prop)"
   ]
  },
  {
   "cell_type": "code",
   "execution_count": 19,
   "metadata": {},
   "outputs": [
    {
     "name": "stdout",
     "output_type": "stream",
     "text": [
      "<class 'pandas.core.frame.DataFrame'>\n",
      "Int64Index: 1284 entries, 0 to 1283\n",
      "Data columns (total 2 columns):\n",
      " #   Column    Non-Null Count  Dtype\n",
      "---  ------    --------------  -----\n",
      " 0   ID        1284 non-null   int64\n",
      " 1   Category  1284 non-null   int64\n",
      "dtypes: int64(2)\n",
      "memory usage: 30.1 KB\n",
      "None\n",
      "CPU times: user 120 ms, sys: 0 ns, total: 120 ms\n",
      "Wall time: 122 ms\n"
     ]
    }
   ],
   "source": [
    "%%time\n",
    "test_result = pd.DataFrame(result.reshape(-1,47))\n",
    "test_result['ID'] = test_data['ID'].values\n",
    "test_data_mean = test_result.groupby('ID')[list(range(47))].agg(['mean'])\n",
    "test_data_mean.columns = list(range(47))\n",
    "test_data_mean[\"Category\"] = test_data_mean.idxmax(axis = 1)\n",
    "test_data_mean['Category'] = test_data_mean.apply(lambda x : x[\"Category\"] + 1, axis = 1).astype('int') \n",
    "test_data_mean[\"ID\"] = test_data_mean.index\n",
    "test_data_group = test_data_mean[['ID','Category']]\n",
    "print(test_data_group.info())"
   ]
  },
  {
   "cell_type": "code",
   "execution_count": 20,
   "metadata": {},
   "outputs": [
    {
     "data": {
      "text/plain": [
       "9"
      ]
     },
     "execution_count": 20,
     "metadata": {},
     "output_type": "execute_result"
    }
   ],
   "source": [
    "len(test_data_group.Category.unique())"
   ]
  },
  {
   "cell_type": "code",
   "execution_count": 21,
   "metadata": {},
   "outputs": [],
   "source": [
    "submission_name = \"submission_2.1_mean.csv\"\n",
    "test_data_group.to_csv(submission_name, index=False)"
   ]
  },
  {
   "cell_type": "code",
   "execution_count": 22,
   "metadata": {},
   "outputs": [
    {
     "name": "stdout",
     "output_type": "stream",
     "text": [
      "Upload from local submission_2.1_mean.csv to data/breakfast-img-data/submission_2.1_mean.csv\n"
     ]
    }
   ],
   "source": [
    "upload_files([submission_name])"
   ]
  }
 ],
 "metadata": {
  "kernelspec": {
   "display_name": "Python 3",
   "language": "python",
   "name": "python3"
  },
  "language_info": {
   "codemirror_mode": {
    "name": "ipython",
    "version": 3
   },
   "file_extension": ".py",
   "mimetype": "text/x-python",
   "name": "python",
   "nbconvert_exporter": "python",
   "pygments_lexer": "ipython3",
   "version": "3.7.6"
  }
 },
 "nbformat": 4,
 "nbformat_minor": 4
}
