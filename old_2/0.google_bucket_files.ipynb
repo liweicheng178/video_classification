{
 "cells": [
  {
   "cell_type": "code",
   "execution_count": 2,
   "metadata": {},
   "outputs": [
    {
     "name": "stdout",
     "output_type": "stream",
     "text": [
      "CPU times: user 0 ns, sys: 0 ns, total: 0 ns\n",
      "Wall time: 27.9 µs\n"
     ]
    }
   ],
   "source": [
    "%%time\n",
    "import joblib, time, os, copy, datetime\n",
    "import numpy as np\n",
    "import pandas as pd\n",
    "\n",
    "#enable it when running in google cloud, to upload/download file from/to VM to/from google cloud bucket\n",
    "from google.cloud import storage\n",
    "\n",
    "bucket_root_path = \"weicheng30417\"\n",
    "project_data_folder = \"data/breakfast-img-data/\"\n",
    "\n",
    "def upload_all_files():    \n",
    "    storage_client = storage.Client()\n",
    "    bucket = storage_client.get_bucket(bucket_root_path)\n",
    "    \n",
    "    directory = os.getcwd()\n",
    "    for file in os.listdir(directory):\n",
    "        filename = os.fsdecode(file)\n",
    "        if filename.endswith(\".csv\") or filename.endswith(\".ipynb\") or filename.endswith(\".model\"):             \n",
    "            butcketFile = project_data_folder + file\n",
    "            blob = bucket.blob(butcketFile)\n",
    "            blob.upload_from_filename(filename)\n",
    "            print(\"Upload from local {0} to {1}\".format(filename, butcketFile))\n",
    "\n",
    "def download_all_data_from_bucket():\n",
    "    storage_client = storage.Client()\n",
    "    bucket = storage_client.get_bucket(bucket_root_path)\n",
    "    file_id = project_data_folder\n",
    "    blobs=bucket.list_blobs(prefix=file_id)\n",
    "    for blob in blobs:        \n",
    "        file_names = blob.name.split(\"/\")\n",
    "        if len(file_names) == 3:\n",
    "            if file_names[2] != \"\":\n",
    "                file_name = file_names[2]            \n",
    "                blob.download_to_filename(file_name)\n",
    "                print(\"Download from {0} to local {1}\".format(blob.name, file_name))"
   ]
  },
  {
   "cell_type": "code",
   "execution_count": null,
   "metadata": {},
   "outputs": [
    {
     "name": "stdout",
     "output_type": "stream",
     "text": [
      "Download from data/breakfast-img-data/0.google_bucket_files.ipynb to local 0.google_bucket_files.ipynb\n",
      "Download from data/breakfast-img-data/2.model_1.0.ipynb to local 2.model_1.0.ipynb\n",
      "Download from data/breakfast-img-data/2.model_1.1.ipynb to local 2.model_1.1.ipynb\n",
      "Download from data/breakfast-img-data/2.model_1.2.ipynb to local 2.model_1.2.ipynb\n",
      "Download from data/breakfast-img-data/2.model_1.3.ipynb to local 2.model_1.3.ipynb\n",
      "Download from data/breakfast-img-data/2.model_2.0.ipynb to local 2.model_2.0.ipynb\n",
      "Download from data/breakfast-img-data/3.test_run.ipynb to local 3.test_run.ipynb\n",
      "Download from data/breakfast-img-data/model_1.0.model to local model_1.0.model\n",
      "Download from data/breakfast-img-data/model_1.1.model to local model_1.1.model\n",
      "Download from data/breakfast-img-data/model_1.2.model to local model_1.2.model\n",
      "Download from data/breakfast-img-data/model_1.3.model to local model_1.3.model\n",
      "Download from data/breakfast-img-data/model_2.0.model to local model_2.0.model\n",
      "Download from data/breakfast-img-data/submission_1.0_max.csv to local submission_1.0_max.csv\n",
      "Download from data/breakfast-img-data/submission_1.0_mean.csv to local submission_1.0_mean.csv\n",
      "Download from data/breakfast-img-data/submission_1.1_max.csv to local submission_1.1_max.csv\n",
      "Download from data/breakfast-img-data/submission_1.1_mean.csv to local submission_1.1_mean.csv\n",
      "Download from data/breakfast-img-data/submission_1.2_max.csv to local submission_1.2_max.csv\n",
      "Download from data/breakfast-img-data/submission_1.2_mean.csv to local submission_1.2_mean.csv\n",
      "Download from data/breakfast-img-data/submission_2.0.csv to local submission_2.0.csv\n",
      "Download from data/breakfast-img-data/submission_2.0.max.csv to local submission_2.0.max.csv\n",
      "Download from data/breakfast-img-data/submission_2.0_baseline_mean.csv to local submission_2.0_baseline_mean.csv\n",
      "Download from data/breakfast-img-data/submission_2.0_max.csv to local submission_2.0_max.csv\n",
      "Download from data/breakfast-img-data/submission_2.0_mean.csv to local submission_2.0_mean.csv\n",
      "Download from data/breakfast-img-data/test_feature.joblib to local test_feature.joblib\n",
      "Download from data/breakfast-img-data/test_segment.txt to local test_segment.txt\n"
     ]
    }
   ],
   "source": [
    "%%time\n",
    "download_all_data_from_bucket()"
   ]
  },
  {
   "cell_type": "code",
   "execution_count": 4,
   "metadata": {},
   "outputs": [
    {
     "name": "stdout",
     "output_type": "stream",
     "text": [
      "Upload from local submission_1.2_max.csv to data/breakfast-img-data/submission_1.2_max.csv\n",
      "Upload from local model_1.3.model to data/breakfast-img-data/model_1.3.model\n",
      "Upload from local submission_2.0.csv to data/breakfast-img-data/submission_2.0.csv\n",
      "Upload from local submission_1.2_mean.csv to data/breakfast-img-data/submission_1.2_mean.csv\n",
      "Upload from local submission_2.0_mean.csv to data/breakfast-img-data/submission_2.0_mean.csv\n",
      "Upload from local model_2.0.model to data/breakfast-img-data/model_2.0.model\n",
      "Upload from local submission_2.0_max.csv to data/breakfast-img-data/submission_2.0_max.csv\n",
      "Upload from local submission_1.0_mean.csv to data/breakfast-img-data/submission_1.0_mean.csv\n",
      "Upload from local model_1.0.model to data/breakfast-img-data/model_1.0.model\n",
      "Upload from local submission_1.1_max.csv to data/breakfast-img-data/submission_1.1_max.csv\n",
      "Upload from local 2.model_1.3.ipynb to data/breakfast-img-data/2.model_1.3.ipynb\n",
      "Upload from local 0.google_bucket_files.ipynb to data/breakfast-img-data/0.google_bucket_files.ipynb\n",
      "Upload from local 3.test_run.ipynb to data/breakfast-img-data/3.test_run.ipynb\n",
      "Upload from local 2.model_2.0.ipynb to data/breakfast-img-data/2.model_2.0.ipynb\n",
      "Upload from local 2.model_1.0.ipynb to data/breakfast-img-data/2.model_1.0.ipynb\n",
      "Upload from local 2.model_1.2.ipynb to data/breakfast-img-data/2.model_1.2.ipynb\n",
      "Upload from local submission_1.0_max.csv to data/breakfast-img-data/submission_1.0_max.csv\n",
      "Upload from local model_1.1.model to data/breakfast-img-data/model_1.1.model\n",
      "Upload from local 2.model_1.1.ipynb to data/breakfast-img-data/2.model_1.1.ipynb\n",
      "Upload from local submission_1.1_mean.csv to data/breakfast-img-data/submission_1.1_mean.csv\n",
      "Upload from local model_1.2.model to data/breakfast-img-data/model_1.2.model\n",
      "CPU times: user 976 ms, sys: 980 ms, total: 1.96 s\n",
      "Wall time: 26.3 s\n"
     ]
    }
   ],
   "source": [
    "%%time\n",
    "upload_all_files()"
   ]
  }
 ],
 "metadata": {
  "kernelspec": {
   "display_name": "Python 3",
   "language": "python",
   "name": "python3"
  },
  "language_info": {
   "codemirror_mode": {
    "name": "ipython",
    "version": 3
   },
   "file_extension": ".py",
   "mimetype": "text/x-python",
   "name": "python",
   "nbconvert_exporter": "python",
   "pygments_lexer": "ipython3",
   "version": "3.7.6"
  }
 },
 "nbformat": 4,
 "nbformat_minor": 4
}
